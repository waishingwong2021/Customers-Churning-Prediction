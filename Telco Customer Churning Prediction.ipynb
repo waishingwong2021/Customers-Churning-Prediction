{
 "cells": [
  {
   "cell_type": "markdown",
   "id": "a8caa89b",
   "metadata": {},
   "source": [
    "# Purpose \n",
    "The purpose of this project is to predict IBM customers' churn rates.\n",
    "\n"
   ]
  },
  {
   "cell_type": "markdown",
   "id": "8234622a",
   "metadata": {},
   "source": [
    "# Results\n",
    "\n",
    "In this test set, 73.4% of the customers do not end up churning. \n",
    "\n",
    "Guessing 'no' for every customer would result in an accuracy of 73.4%, but our ML model has an accuracy of 79.4%!"
   ]
  },
  {
   "cell_type": "markdown",
   "id": "2176380f",
   "metadata": {},
   "source": [
    "Data set: \n",
    "\n",
    "https://www.kaggle.com/datasets/blastchar/telco-customer-churn"
   ]
  },
  {
   "cell_type": "markdown",
   "id": "1ba30b09",
   "metadata": {},
   "source": [
    "# Import library and data"
   ]
  },
  {
   "cell_type": "code",
   "execution_count": 44,
   "id": "674b04ef",
   "metadata": {},
   "outputs": [],
   "source": [
    "import pandas as pd\n",
    "import numpy as np\n",
    "\n",
    "# Stat\n",
    "from scipy.stats import chi2_contingency\n",
    "\n",
    "# ML\n",
    "from sklearn.metrics import mutual_info_score, accuracy_score, \\\n",
    "                            confusion_matrix, classification_report\n",
    "from sklearn.model_selection import train_test_split, cross_val_score, GridSearchCV\n",
    "from sklearn.dummy import DummyClassifier\n",
    "from sklearn.neighbors import KNeighborsClassifier\n",
    "from sklearn.linear_model import LogisticRegression\n",
    "from sklearn.svm import SVC\n",
    "from sklearn.ensemble import RandomForestClassifier, GradientBoostingClassifier\n",
    "\n",
    "# Other\n",
    "import matplotlib.pyplot as plt\n",
    "\n",
    "%matplotlib inline"
   ]
  },
  {
   "cell_type": "code",
   "execution_count": 45,
   "id": "6419f39b",
   "metadata": {},
   "outputs": [
    {
     "data": {
      "text/html": [
       "<div>\n",
       "<style scoped>\n",
       "    .dataframe tbody tr th:only-of-type {\n",
       "        vertical-align: middle;\n",
       "    }\n",
       "\n",
       "    .dataframe tbody tr th {\n",
       "        vertical-align: top;\n",
       "    }\n",
       "\n",
       "    .dataframe thead th {\n",
       "        text-align: right;\n",
       "    }\n",
       "</style>\n",
       "<table border=\"1\" class=\"dataframe\">\n",
       "  <thead>\n",
       "    <tr style=\"text-align: right;\">\n",
       "      <th></th>\n",
       "      <th>customerID</th>\n",
       "      <th>gender</th>\n",
       "      <th>SeniorCitizen</th>\n",
       "      <th>Partner</th>\n",
       "      <th>Dependents</th>\n",
       "      <th>tenure</th>\n",
       "      <th>PhoneService</th>\n",
       "      <th>MultipleLines</th>\n",
       "      <th>InternetService</th>\n",
       "      <th>OnlineSecurity</th>\n",
       "      <th>...</th>\n",
       "      <th>DeviceProtection</th>\n",
       "      <th>TechSupport</th>\n",
       "      <th>StreamingTV</th>\n",
       "      <th>StreamingMovies</th>\n",
       "      <th>Contract</th>\n",
       "      <th>PaperlessBilling</th>\n",
       "      <th>PaymentMethod</th>\n",
       "      <th>MonthlyCharges</th>\n",
       "      <th>TotalCharges</th>\n",
       "      <th>Churn</th>\n",
       "    </tr>\n",
       "  </thead>\n",
       "  <tbody>\n",
       "    <tr>\n",
       "      <th>0</th>\n",
       "      <td>7590-VHVEG</td>\n",
       "      <td>Female</td>\n",
       "      <td>0</td>\n",
       "      <td>Yes</td>\n",
       "      <td>No</td>\n",
       "      <td>1</td>\n",
       "      <td>No</td>\n",
       "      <td>No phone service</td>\n",
       "      <td>DSL</td>\n",
       "      <td>No</td>\n",
       "      <td>...</td>\n",
       "      <td>No</td>\n",
       "      <td>No</td>\n",
       "      <td>No</td>\n",
       "      <td>No</td>\n",
       "      <td>Month-to-month</td>\n",
       "      <td>Yes</td>\n",
       "      <td>Electronic check</td>\n",
       "      <td>29.85</td>\n",
       "      <td>29.85</td>\n",
       "      <td>No</td>\n",
       "    </tr>\n",
       "    <tr>\n",
       "      <th>1</th>\n",
       "      <td>5575-GNVDE</td>\n",
       "      <td>Male</td>\n",
       "      <td>0</td>\n",
       "      <td>No</td>\n",
       "      <td>No</td>\n",
       "      <td>34</td>\n",
       "      <td>Yes</td>\n",
       "      <td>No</td>\n",
       "      <td>DSL</td>\n",
       "      <td>Yes</td>\n",
       "      <td>...</td>\n",
       "      <td>Yes</td>\n",
       "      <td>No</td>\n",
       "      <td>No</td>\n",
       "      <td>No</td>\n",
       "      <td>One year</td>\n",
       "      <td>No</td>\n",
       "      <td>Mailed check</td>\n",
       "      <td>56.95</td>\n",
       "      <td>1889.5</td>\n",
       "      <td>No</td>\n",
       "    </tr>\n",
       "    <tr>\n",
       "      <th>2</th>\n",
       "      <td>3668-QPYBK</td>\n",
       "      <td>Male</td>\n",
       "      <td>0</td>\n",
       "      <td>No</td>\n",
       "      <td>No</td>\n",
       "      <td>2</td>\n",
       "      <td>Yes</td>\n",
       "      <td>No</td>\n",
       "      <td>DSL</td>\n",
       "      <td>Yes</td>\n",
       "      <td>...</td>\n",
       "      <td>No</td>\n",
       "      <td>No</td>\n",
       "      <td>No</td>\n",
       "      <td>No</td>\n",
       "      <td>Month-to-month</td>\n",
       "      <td>Yes</td>\n",
       "      <td>Mailed check</td>\n",
       "      <td>53.85</td>\n",
       "      <td>108.15</td>\n",
       "      <td>Yes</td>\n",
       "    </tr>\n",
       "    <tr>\n",
       "      <th>3</th>\n",
       "      <td>7795-CFOCW</td>\n",
       "      <td>Male</td>\n",
       "      <td>0</td>\n",
       "      <td>No</td>\n",
       "      <td>No</td>\n",
       "      <td>45</td>\n",
       "      <td>No</td>\n",
       "      <td>No phone service</td>\n",
       "      <td>DSL</td>\n",
       "      <td>Yes</td>\n",
       "      <td>...</td>\n",
       "      <td>Yes</td>\n",
       "      <td>Yes</td>\n",
       "      <td>No</td>\n",
       "      <td>No</td>\n",
       "      <td>One year</td>\n",
       "      <td>No</td>\n",
       "      <td>Bank transfer (automatic)</td>\n",
       "      <td>42.30</td>\n",
       "      <td>1840.75</td>\n",
       "      <td>No</td>\n",
       "    </tr>\n",
       "    <tr>\n",
       "      <th>4</th>\n",
       "      <td>9237-HQITU</td>\n",
       "      <td>Female</td>\n",
       "      <td>0</td>\n",
       "      <td>No</td>\n",
       "      <td>No</td>\n",
       "      <td>2</td>\n",
       "      <td>Yes</td>\n",
       "      <td>No</td>\n",
       "      <td>Fiber optic</td>\n",
       "      <td>No</td>\n",
       "      <td>...</td>\n",
       "      <td>No</td>\n",
       "      <td>No</td>\n",
       "      <td>No</td>\n",
       "      <td>No</td>\n",
       "      <td>Month-to-month</td>\n",
       "      <td>Yes</td>\n",
       "      <td>Electronic check</td>\n",
       "      <td>70.70</td>\n",
       "      <td>151.65</td>\n",
       "      <td>Yes</td>\n",
       "    </tr>\n",
       "  </tbody>\n",
       "</table>\n",
       "<p>5 rows × 21 columns</p>\n",
       "</div>"
      ],
      "text/plain": [
       "   customerID  gender  SeniorCitizen Partner Dependents  tenure PhoneService  \\\n",
       "0  7590-VHVEG  Female              0     Yes         No       1           No   \n",
       "1  5575-GNVDE    Male              0      No         No      34          Yes   \n",
       "2  3668-QPYBK    Male              0      No         No       2          Yes   \n",
       "3  7795-CFOCW    Male              0      No         No      45           No   \n",
       "4  9237-HQITU  Female              0      No         No       2          Yes   \n",
       "\n",
       "      MultipleLines InternetService OnlineSecurity  ... DeviceProtection  \\\n",
       "0  No phone service             DSL             No  ...               No   \n",
       "1                No             DSL            Yes  ...              Yes   \n",
       "2                No             DSL            Yes  ...               No   \n",
       "3  No phone service             DSL            Yes  ...              Yes   \n",
       "4                No     Fiber optic             No  ...               No   \n",
       "\n",
       "  TechSupport StreamingTV StreamingMovies        Contract PaperlessBilling  \\\n",
       "0          No          No              No  Month-to-month              Yes   \n",
       "1          No          No              No        One year               No   \n",
       "2          No          No              No  Month-to-month              Yes   \n",
       "3         Yes          No              No        One year               No   \n",
       "4          No          No              No  Month-to-month              Yes   \n",
       "\n",
       "               PaymentMethod MonthlyCharges  TotalCharges Churn  \n",
       "0           Electronic check          29.85         29.85    No  \n",
       "1               Mailed check          56.95        1889.5    No  \n",
       "2               Mailed check          53.85        108.15   Yes  \n",
       "3  Bank transfer (automatic)          42.30       1840.75    No  \n",
       "4           Electronic check          70.70        151.65   Yes  \n",
       "\n",
       "[5 rows x 21 columns]"
      ]
     },
     "execution_count": 45,
     "metadata": {},
     "output_type": "execute_result"
    }
   ],
   "source": [
    "df = pd.read_csv('data\\\\telco_churn.csv')\n",
    "df.head(5)"
   ]
  },
  {
   "cell_type": "code",
   "execution_count": 46,
   "id": "4459e6d5",
   "metadata": {},
   "outputs": [],
   "source": [
    "# drop customerID\n",
    "df = df.drop(columns = ['customerID'])"
   ]
  },
  {
   "cell_type": "markdown",
   "id": "720bc294",
   "metadata": {},
   "source": [
    "# EDA"
   ]
  },
  {
   "cell_type": "code",
   "execution_count": 47,
   "id": "2e0ba006",
   "metadata": {},
   "outputs": [
    {
     "data": {
      "text/plain": [
       "7043"
      ]
     },
     "execution_count": 47,
     "metadata": {},
     "output_type": "execute_result"
    }
   ],
   "source": [
    "len(df)"
   ]
  },
  {
   "cell_type": "code",
   "execution_count": 48,
   "id": "6a19875f",
   "metadata": {},
   "outputs": [
    {
     "data": {
      "text/plain": [
       "gender              0\n",
       "SeniorCitizen       0\n",
       "Partner             0\n",
       "Dependents          0\n",
       "tenure              0\n",
       "PhoneService        0\n",
       "MultipleLines       0\n",
       "InternetService     0\n",
       "OnlineSecurity      0\n",
       "OnlineBackup        0\n",
       "DeviceProtection    0\n",
       "TechSupport         0\n",
       "StreamingTV         0\n",
       "StreamingMovies     0\n",
       "Contract            0\n",
       "PaperlessBilling    0\n",
       "PaymentMethod       0\n",
       "MonthlyCharges      0\n",
       "TotalCharges        0\n",
       "Churn               0\n",
       "dtype: int64"
      ]
     },
     "execution_count": 48,
     "metadata": {},
     "output_type": "execute_result"
    }
   ],
   "source": [
    "df.isnull().sum()"
   ]
  },
  {
   "cell_type": "code",
   "execution_count": 49,
   "id": "0b3c2d65",
   "metadata": {},
   "outputs": [
    {
     "data": {
      "text/plain": [
       "No     0.73463\n",
       "Yes    0.26537\n",
       "Name: Churn, dtype: float64"
      ]
     },
     "execution_count": 49,
     "metadata": {},
     "output_type": "execute_result"
    }
   ],
   "source": [
    "df['Churn'].value_counts(normalize = True)"
   ]
  },
  {
   "cell_type": "markdown",
   "id": "7a166796",
   "metadata": {},
   "source": [
    "---\n",
    "The data can be classified into 3 groups:\n",
    "    \n",
    "\n",
    "1. Deomographic info:\n",
    "    * Gender\n",
    "    * SeniorCitizen\n",
    "    * Partner\n",
    "    * Dependents\n",
    "\n",
    "2. Customer Account Information\n",
    "    * tenure\n",
    "    * Contract\n",
    "    * PaperlessBilling\n",
    "    * PaymentMethod\n",
    "    * MonthlyCharges\n",
    "    * TotalCharges\n",
    "    \n",
    "3. Service Information (Whether the client signed up for the service):\n",
    "    * Phone Service\n",
    "    * MultipleLines\n",
    "    * InternetServices\n",
    "    * OnlineSecurity\n",
    "    * OnlineBackup\n",
    "    * DeviceProtection\n",
    "    * TechSupport\n",
    "    * StreamingTV\n",
    "    * StreamingMovies"
   ]
  },
  {
   "cell_type": "code",
   "execution_count": 50,
   "id": "255ea0ab",
   "metadata": {},
   "outputs": [
    {
     "name": "stdout",
     "output_type": "stream",
     "text": [
      "gender column has 2 values: ['Female' 'Male']\n",
      "\n",
      "\n",
      "SeniorCitizen column has 2 values: [0 1]\n",
      "\n",
      "\n",
      "Partner column has 2 values: ['Yes' 'No']\n",
      "\n",
      "\n",
      "Dependents column has 2 values: ['No' 'Yes']\n",
      "\n",
      "\n",
      "tenure column has 73 values: [ 1 34  2 45  8 22 10 28 62 13 16 58 49 25 69 52 71 21 12 30 47 72 17 27\n",
      "  5 46 11 70 63 43 15 60 18 66  9  3 31 50 64 56  7 42 35 48 29 65 38 68\n",
      " 32 55 37 36 41  6  4 33 67 23 57 61 14 20 53 40 59 24 44 19 54 51 26  0\n",
      " 39]\n",
      "\n",
      "\n",
      "PhoneService column has 2 values: ['No' 'Yes']\n",
      "\n",
      "\n",
      "MultipleLines column has 3 values: ['No phone service' 'No' 'Yes']\n",
      "\n",
      "\n",
      "InternetService column has 3 values: ['DSL' 'Fiber optic' 'No']\n",
      "\n",
      "\n",
      "OnlineSecurity column has 3 values: ['No' 'Yes' 'No internet service']\n",
      "\n",
      "\n",
      "OnlineBackup column has 3 values: ['Yes' 'No' 'No internet service']\n",
      "\n",
      "\n",
      "DeviceProtection column has 3 values: ['No' 'Yes' 'No internet service']\n",
      "\n",
      "\n",
      "TechSupport column has 3 values: ['No' 'Yes' 'No internet service']\n",
      "\n",
      "\n",
      "StreamingTV column has 3 values: ['No' 'Yes' 'No internet service']\n",
      "\n",
      "\n",
      "StreamingMovies column has 3 values: ['No' 'Yes' 'No internet service']\n",
      "\n",
      "\n",
      "Contract column has 3 values: ['Month-to-month' 'One year' 'Two year']\n",
      "\n",
      "\n",
      "PaperlessBilling column has 2 values: ['Yes' 'No']\n",
      "\n",
      "\n",
      "PaymentMethod column has 4 values: ['Electronic check' 'Mailed check' 'Bank transfer (automatic)'\n",
      " 'Credit card (automatic)']\n",
      "\n",
      "\n",
      "MonthlyCharges column has 1585 values: [29.85 56.95 53.85 ... 63.1  44.2  78.7 ]\n",
      "\n",
      "\n",
      "TotalCharges column has 6531 values: ['29.85' '1889.5' '108.15' ... '346.45' '306.6' '6844.5']\n",
      "\n",
      "\n",
      "Churn column has 2 values: ['No' 'Yes']\n",
      "\n",
      "\n"
     ]
    }
   ],
   "source": [
    "for column in df.columns:\n",
    "    # print out unqiue values\n",
    "    num_uniques = df[column].nunique()\n",
    "    unique_values = df[column].unique()\n",
    "    print(f'{column} column has {num_uniques} values: {unique_values}')\n",
    "    print('\\n')"
   ]
  },
  {
   "cell_type": "markdown",
   "id": "95e8fc28",
   "metadata": {},
   "source": [
    "---\n",
    "We observe some erroraneous data in the following block. These customers do not have 'TotalCharges' recorded. \n",
    "\n",
    "Since we have sufficient data, we can safely remove these few data points.\n"
   ]
  },
  {
   "cell_type": "code",
   "execution_count": 51,
   "id": "cf67ce4c",
   "metadata": {},
   "outputs": [
    {
     "data": {
      "text/html": [
       "<div>\n",
       "<style scoped>\n",
       "    .dataframe tbody tr th:only-of-type {\n",
       "        vertical-align: middle;\n",
       "    }\n",
       "\n",
       "    .dataframe tbody tr th {\n",
       "        vertical-align: top;\n",
       "    }\n",
       "\n",
       "    .dataframe thead th {\n",
       "        text-align: right;\n",
       "    }\n",
       "</style>\n",
       "<table border=\"1\" class=\"dataframe\">\n",
       "  <thead>\n",
       "    <tr style=\"text-align: right;\">\n",
       "      <th></th>\n",
       "      <th>gender</th>\n",
       "      <th>SeniorCitizen</th>\n",
       "      <th>Partner</th>\n",
       "      <th>Dependents</th>\n",
       "      <th>tenure</th>\n",
       "      <th>PhoneService</th>\n",
       "      <th>MultipleLines</th>\n",
       "      <th>InternetService</th>\n",
       "      <th>OnlineSecurity</th>\n",
       "      <th>OnlineBackup</th>\n",
       "      <th>DeviceProtection</th>\n",
       "      <th>TechSupport</th>\n",
       "      <th>StreamingTV</th>\n",
       "      <th>StreamingMovies</th>\n",
       "      <th>Contract</th>\n",
       "      <th>PaperlessBilling</th>\n",
       "      <th>PaymentMethod</th>\n",
       "      <th>MonthlyCharges</th>\n",
       "      <th>TotalCharges</th>\n",
       "      <th>Churn</th>\n",
       "    </tr>\n",
       "  </thead>\n",
       "  <tbody>\n",
       "    <tr>\n",
       "      <th>488</th>\n",
       "      <td>Female</td>\n",
       "      <td>0</td>\n",
       "      <td>Yes</td>\n",
       "      <td>Yes</td>\n",
       "      <td>0</td>\n",
       "      <td>No</td>\n",
       "      <td>No phone service</td>\n",
       "      <td>DSL</td>\n",
       "      <td>Yes</td>\n",
       "      <td>No</td>\n",
       "      <td>Yes</td>\n",
       "      <td>Yes</td>\n",
       "      <td>Yes</td>\n",
       "      <td>No</td>\n",
       "      <td>Two year</td>\n",
       "      <td>Yes</td>\n",
       "      <td>Bank transfer (automatic)</td>\n",
       "      <td>52.55</td>\n",
       "      <td></td>\n",
       "      <td>No</td>\n",
       "    </tr>\n",
       "    <tr>\n",
       "      <th>753</th>\n",
       "      <td>Male</td>\n",
       "      <td>0</td>\n",
       "      <td>No</td>\n",
       "      <td>Yes</td>\n",
       "      <td>0</td>\n",
       "      <td>Yes</td>\n",
       "      <td>No</td>\n",
       "      <td>No</td>\n",
       "      <td>No internet service</td>\n",
       "      <td>No internet service</td>\n",
       "      <td>No internet service</td>\n",
       "      <td>No internet service</td>\n",
       "      <td>No internet service</td>\n",
       "      <td>No internet service</td>\n",
       "      <td>Two year</td>\n",
       "      <td>No</td>\n",
       "      <td>Mailed check</td>\n",
       "      <td>20.25</td>\n",
       "      <td></td>\n",
       "      <td>No</td>\n",
       "    </tr>\n",
       "    <tr>\n",
       "      <th>936</th>\n",
       "      <td>Female</td>\n",
       "      <td>0</td>\n",
       "      <td>Yes</td>\n",
       "      <td>Yes</td>\n",
       "      <td>0</td>\n",
       "      <td>Yes</td>\n",
       "      <td>No</td>\n",
       "      <td>DSL</td>\n",
       "      <td>Yes</td>\n",
       "      <td>Yes</td>\n",
       "      <td>Yes</td>\n",
       "      <td>No</td>\n",
       "      <td>Yes</td>\n",
       "      <td>Yes</td>\n",
       "      <td>Two year</td>\n",
       "      <td>No</td>\n",
       "      <td>Mailed check</td>\n",
       "      <td>80.85</td>\n",
       "      <td></td>\n",
       "      <td>No</td>\n",
       "    </tr>\n",
       "    <tr>\n",
       "      <th>1082</th>\n",
       "      <td>Male</td>\n",
       "      <td>0</td>\n",
       "      <td>Yes</td>\n",
       "      <td>Yes</td>\n",
       "      <td>0</td>\n",
       "      <td>Yes</td>\n",
       "      <td>Yes</td>\n",
       "      <td>No</td>\n",
       "      <td>No internet service</td>\n",
       "      <td>No internet service</td>\n",
       "      <td>No internet service</td>\n",
       "      <td>No internet service</td>\n",
       "      <td>No internet service</td>\n",
       "      <td>No internet service</td>\n",
       "      <td>Two year</td>\n",
       "      <td>No</td>\n",
       "      <td>Mailed check</td>\n",
       "      <td>25.75</td>\n",
       "      <td></td>\n",
       "      <td>No</td>\n",
       "    </tr>\n",
       "    <tr>\n",
       "      <th>1340</th>\n",
       "      <td>Female</td>\n",
       "      <td>0</td>\n",
       "      <td>Yes</td>\n",
       "      <td>Yes</td>\n",
       "      <td>0</td>\n",
       "      <td>No</td>\n",
       "      <td>No phone service</td>\n",
       "      <td>DSL</td>\n",
       "      <td>Yes</td>\n",
       "      <td>Yes</td>\n",
       "      <td>Yes</td>\n",
       "      <td>Yes</td>\n",
       "      <td>Yes</td>\n",
       "      <td>No</td>\n",
       "      <td>Two year</td>\n",
       "      <td>No</td>\n",
       "      <td>Credit card (automatic)</td>\n",
       "      <td>56.05</td>\n",
       "      <td></td>\n",
       "      <td>No</td>\n",
       "    </tr>\n",
       "    <tr>\n",
       "      <th>3331</th>\n",
       "      <td>Male</td>\n",
       "      <td>0</td>\n",
       "      <td>Yes</td>\n",
       "      <td>Yes</td>\n",
       "      <td>0</td>\n",
       "      <td>Yes</td>\n",
       "      <td>No</td>\n",
       "      <td>No</td>\n",
       "      <td>No internet service</td>\n",
       "      <td>No internet service</td>\n",
       "      <td>No internet service</td>\n",
       "      <td>No internet service</td>\n",
       "      <td>No internet service</td>\n",
       "      <td>No internet service</td>\n",
       "      <td>Two year</td>\n",
       "      <td>No</td>\n",
       "      <td>Mailed check</td>\n",
       "      <td>19.85</td>\n",
       "      <td></td>\n",
       "      <td>No</td>\n",
       "    </tr>\n",
       "    <tr>\n",
       "      <th>3826</th>\n",
       "      <td>Male</td>\n",
       "      <td>0</td>\n",
       "      <td>Yes</td>\n",
       "      <td>Yes</td>\n",
       "      <td>0</td>\n",
       "      <td>Yes</td>\n",
       "      <td>Yes</td>\n",
       "      <td>No</td>\n",
       "      <td>No internet service</td>\n",
       "      <td>No internet service</td>\n",
       "      <td>No internet service</td>\n",
       "      <td>No internet service</td>\n",
       "      <td>No internet service</td>\n",
       "      <td>No internet service</td>\n",
       "      <td>Two year</td>\n",
       "      <td>No</td>\n",
       "      <td>Mailed check</td>\n",
       "      <td>25.35</td>\n",
       "      <td></td>\n",
       "      <td>No</td>\n",
       "    </tr>\n",
       "    <tr>\n",
       "      <th>4380</th>\n",
       "      <td>Female</td>\n",
       "      <td>0</td>\n",
       "      <td>Yes</td>\n",
       "      <td>Yes</td>\n",
       "      <td>0</td>\n",
       "      <td>Yes</td>\n",
       "      <td>No</td>\n",
       "      <td>No</td>\n",
       "      <td>No internet service</td>\n",
       "      <td>No internet service</td>\n",
       "      <td>No internet service</td>\n",
       "      <td>No internet service</td>\n",
       "      <td>No internet service</td>\n",
       "      <td>No internet service</td>\n",
       "      <td>Two year</td>\n",
       "      <td>No</td>\n",
       "      <td>Mailed check</td>\n",
       "      <td>20.00</td>\n",
       "      <td></td>\n",
       "      <td>No</td>\n",
       "    </tr>\n",
       "    <tr>\n",
       "      <th>5218</th>\n",
       "      <td>Male</td>\n",
       "      <td>0</td>\n",
       "      <td>Yes</td>\n",
       "      <td>Yes</td>\n",
       "      <td>0</td>\n",
       "      <td>Yes</td>\n",
       "      <td>No</td>\n",
       "      <td>No</td>\n",
       "      <td>No internet service</td>\n",
       "      <td>No internet service</td>\n",
       "      <td>No internet service</td>\n",
       "      <td>No internet service</td>\n",
       "      <td>No internet service</td>\n",
       "      <td>No internet service</td>\n",
       "      <td>One year</td>\n",
       "      <td>Yes</td>\n",
       "      <td>Mailed check</td>\n",
       "      <td>19.70</td>\n",
       "      <td></td>\n",
       "      <td>No</td>\n",
       "    </tr>\n",
       "    <tr>\n",
       "      <th>6670</th>\n",
       "      <td>Female</td>\n",
       "      <td>0</td>\n",
       "      <td>Yes</td>\n",
       "      <td>Yes</td>\n",
       "      <td>0</td>\n",
       "      <td>Yes</td>\n",
       "      <td>Yes</td>\n",
       "      <td>DSL</td>\n",
       "      <td>No</td>\n",
       "      <td>Yes</td>\n",
       "      <td>Yes</td>\n",
       "      <td>Yes</td>\n",
       "      <td>Yes</td>\n",
       "      <td>No</td>\n",
       "      <td>Two year</td>\n",
       "      <td>No</td>\n",
       "      <td>Mailed check</td>\n",
       "      <td>73.35</td>\n",
       "      <td></td>\n",
       "      <td>No</td>\n",
       "    </tr>\n",
       "    <tr>\n",
       "      <th>6754</th>\n",
       "      <td>Male</td>\n",
       "      <td>0</td>\n",
       "      <td>No</td>\n",
       "      <td>Yes</td>\n",
       "      <td>0</td>\n",
       "      <td>Yes</td>\n",
       "      <td>Yes</td>\n",
       "      <td>DSL</td>\n",
       "      <td>Yes</td>\n",
       "      <td>Yes</td>\n",
       "      <td>No</td>\n",
       "      <td>Yes</td>\n",
       "      <td>No</td>\n",
       "      <td>No</td>\n",
       "      <td>Two year</td>\n",
       "      <td>Yes</td>\n",
       "      <td>Bank transfer (automatic)</td>\n",
       "      <td>61.90</td>\n",
       "      <td></td>\n",
       "      <td>No</td>\n",
       "    </tr>\n",
       "  </tbody>\n",
       "</table>\n",
       "</div>"
      ],
      "text/plain": [
       "      gender  SeniorCitizen Partner Dependents  tenure PhoneService  \\\n",
       "488   Female              0     Yes        Yes       0           No   \n",
       "753     Male              0      No        Yes       0          Yes   \n",
       "936   Female              0     Yes        Yes       0          Yes   \n",
       "1082    Male              0     Yes        Yes       0          Yes   \n",
       "1340  Female              0     Yes        Yes       0           No   \n",
       "3331    Male              0     Yes        Yes       0          Yes   \n",
       "3826    Male              0     Yes        Yes       0          Yes   \n",
       "4380  Female              0     Yes        Yes       0          Yes   \n",
       "5218    Male              0     Yes        Yes       0          Yes   \n",
       "6670  Female              0     Yes        Yes       0          Yes   \n",
       "6754    Male              0      No        Yes       0          Yes   \n",
       "\n",
       "         MultipleLines InternetService       OnlineSecurity  \\\n",
       "488   No phone service             DSL                  Yes   \n",
       "753                 No              No  No internet service   \n",
       "936                 No             DSL                  Yes   \n",
       "1082               Yes              No  No internet service   \n",
       "1340  No phone service             DSL                  Yes   \n",
       "3331                No              No  No internet service   \n",
       "3826               Yes              No  No internet service   \n",
       "4380                No              No  No internet service   \n",
       "5218                No              No  No internet service   \n",
       "6670               Yes             DSL                   No   \n",
       "6754               Yes             DSL                  Yes   \n",
       "\n",
       "             OnlineBackup     DeviceProtection          TechSupport  \\\n",
       "488                    No                  Yes                  Yes   \n",
       "753   No internet service  No internet service  No internet service   \n",
       "936                   Yes                  Yes                   No   \n",
       "1082  No internet service  No internet service  No internet service   \n",
       "1340                  Yes                  Yes                  Yes   \n",
       "3331  No internet service  No internet service  No internet service   \n",
       "3826  No internet service  No internet service  No internet service   \n",
       "4380  No internet service  No internet service  No internet service   \n",
       "5218  No internet service  No internet service  No internet service   \n",
       "6670                  Yes                  Yes                  Yes   \n",
       "6754                  Yes                   No                  Yes   \n",
       "\n",
       "              StreamingTV      StreamingMovies  Contract PaperlessBilling  \\\n",
       "488                   Yes                   No  Two year              Yes   \n",
       "753   No internet service  No internet service  Two year               No   \n",
       "936                   Yes                  Yes  Two year               No   \n",
       "1082  No internet service  No internet service  Two year               No   \n",
       "1340                  Yes                   No  Two year               No   \n",
       "3331  No internet service  No internet service  Two year               No   \n",
       "3826  No internet service  No internet service  Two year               No   \n",
       "4380  No internet service  No internet service  Two year               No   \n",
       "5218  No internet service  No internet service  One year              Yes   \n",
       "6670                  Yes                   No  Two year               No   \n",
       "6754                   No                   No  Two year              Yes   \n",
       "\n",
       "                  PaymentMethod  MonthlyCharges TotalCharges Churn  \n",
       "488   Bank transfer (automatic)           52.55                 No  \n",
       "753                Mailed check           20.25                 No  \n",
       "936                Mailed check           80.85                 No  \n",
       "1082               Mailed check           25.75                 No  \n",
       "1340    Credit card (automatic)           56.05                 No  \n",
       "3331               Mailed check           19.85                 No  \n",
       "3826               Mailed check           25.35                 No  \n",
       "4380               Mailed check           20.00                 No  \n",
       "5218               Mailed check           19.70                 No  \n",
       "6670               Mailed check           73.35                 No  \n",
       "6754  Bank transfer (automatic)           61.90                 No  "
      ]
     },
     "metadata": {},
     "output_type": "display_data"
    }
   ],
   "source": [
    "# Possible erroraneous data\n",
    "display(df[df['TotalCharges'] == ' '])\n",
    "\n",
    "\n",
    "# Remove them\n",
    "df = df[df['TotalCharges'] != ' ']\n",
    "# Change TotalCharges from str to float \n",
    "df['TotalCharges'] = df['TotalCharges'].apply(lambda x:float(x))"
   ]
  },
  {
   "cell_type": "code",
   "execution_count": 52,
   "id": "b866ca97",
   "metadata": {},
   "outputs": [],
   "source": [
    "# We can switch the data from num to cat for EDA, then switch back for ML\n",
    "one2yes = {0:'No', 1:'Yes'}\n",
    "df['SeniorCitizen'] = df['SeniorCitizen'].map(one2yes)"
   ]
  },
  {
   "cell_type": "code",
   "execution_count": 53,
   "id": "f5ff4fa9",
   "metadata": {},
   "outputs": [
    {
     "data": {
      "text/html": [
       "<div>\n",
       "<style scoped>\n",
       "    .dataframe tbody tr th:only-of-type {\n",
       "        vertical-align: middle;\n",
       "    }\n",
       "\n",
       "    .dataframe tbody tr th {\n",
       "        vertical-align: top;\n",
       "    }\n",
       "\n",
       "    .dataframe thead th {\n",
       "        text-align: right;\n",
       "    }\n",
       "</style>\n",
       "<table border=\"1\" class=\"dataframe\">\n",
       "  <thead>\n",
       "    <tr style=\"text-align: right;\">\n",
       "      <th></th>\n",
       "      <th>tenure</th>\n",
       "      <th>MonthlyCharges</th>\n",
       "      <th>TotalCharges</th>\n",
       "    </tr>\n",
       "  </thead>\n",
       "  <tbody>\n",
       "    <tr>\n",
       "      <th>count</th>\n",
       "      <td>7032.000000</td>\n",
       "      <td>7032.000000</td>\n",
       "      <td>7032.000000</td>\n",
       "    </tr>\n",
       "    <tr>\n",
       "      <th>mean</th>\n",
       "      <td>32.421786</td>\n",
       "      <td>64.798208</td>\n",
       "      <td>2283.300441</td>\n",
       "    </tr>\n",
       "    <tr>\n",
       "      <th>std</th>\n",
       "      <td>24.545260</td>\n",
       "      <td>30.085974</td>\n",
       "      <td>2266.771362</td>\n",
       "    </tr>\n",
       "    <tr>\n",
       "      <th>min</th>\n",
       "      <td>1.000000</td>\n",
       "      <td>18.250000</td>\n",
       "      <td>18.800000</td>\n",
       "    </tr>\n",
       "    <tr>\n",
       "      <th>25%</th>\n",
       "      <td>9.000000</td>\n",
       "      <td>35.587500</td>\n",
       "      <td>401.450000</td>\n",
       "    </tr>\n",
       "    <tr>\n",
       "      <th>50%</th>\n",
       "      <td>29.000000</td>\n",
       "      <td>70.350000</td>\n",
       "      <td>1397.475000</td>\n",
       "    </tr>\n",
       "    <tr>\n",
       "      <th>75%</th>\n",
       "      <td>55.000000</td>\n",
       "      <td>89.862500</td>\n",
       "      <td>3794.737500</td>\n",
       "    </tr>\n",
       "    <tr>\n",
       "      <th>max</th>\n",
       "      <td>72.000000</td>\n",
       "      <td>118.750000</td>\n",
       "      <td>8684.800000</td>\n",
       "    </tr>\n",
       "  </tbody>\n",
       "</table>\n",
       "</div>"
      ],
      "text/plain": [
       "            tenure  MonthlyCharges  TotalCharges\n",
       "count  7032.000000     7032.000000   7032.000000\n",
       "mean     32.421786       64.798208   2283.300441\n",
       "std      24.545260       30.085974   2266.771362\n",
       "min       1.000000       18.250000     18.800000\n",
       "25%       9.000000       35.587500    401.450000\n",
       "50%      29.000000       70.350000   1397.475000\n",
       "75%      55.000000       89.862500   3794.737500\n",
       "max      72.000000      118.750000   8684.800000"
      ]
     },
     "execution_count": 53,
     "metadata": {},
     "output_type": "execute_result"
    }
   ],
   "source": [
    "# Instead of Yes & No, SeniorCitizen is encoded with 1,0\n",
    "df.describe()"
   ]
  },
  {
   "cell_type": "markdown",
   "id": "fee4e74b",
   "metadata": {},
   "source": [
    "---\n",
    "We can examine the variables' distribution vs. the target to determine the features' importance.\n",
    "\n",
    "If the variable have no influence on target variable & have sufficient sample size in each category (i.e. 'Month-to-month' 'One year' 'Two year'), they should share very similar churn rate distribution. \n",
    "\n",
    "We will further validate the results in the feature selection section."
   ]
  },
  {
   "cell_type": "markdown",
   "id": "086e3618",
   "metadata": {},
   "source": [
    "## Distribution of Numeric Variables"
   ]
  },
  {
   "cell_type": "markdown",
   "id": "ef7e6a66",
   "metadata": {},
   "source": [
    "---\n",
    "These variables seem to have some influence on the target. Their subsets (Churn vs. No Churn) have different distributions."
   ]
  },
  {
   "cell_type": "code",
   "execution_count": 54,
   "id": "406ead91",
   "metadata": {},
   "outputs": [],
   "source": [
    "df_churn = df[df['Churn'] == 'Yes']\n",
    "df_no_churn = df[df['Churn'] == 'No']"
   ]
  },
  {
   "cell_type": "code",
   "execution_count": 55,
   "id": "56c2c212",
   "metadata": {},
   "outputs": [
    {
     "data": {
      "image/png": "[encoded data removed]",
      "text/plain": [
       "<Figure size 432x288 with 1 Axes>"
      ]
     },
     "metadata": {
      "needs_background": "light"
     },
     "output_type": "display_data"
    },
    {
     "data": {
      "image/png": "[encoded data removed]",
      "text/plain": [
       "<Figure size 432x288 with 1 Axes>"
      ]
     },
     "metadata": {
      "needs_background": "light"
     },
     "output_type": "display_data"
    },
    {
     "data": {
      "image/png": "[encoded data removed]",
      "text/plain": [
       "<Figure size 432x288 with 1 Axes>"
      ]
     },
     "metadata": {
      "needs_background": "light"
     },
     "output_type": "display_data"
    }
   ],
   "source": [
    "def create_histograms(num_var):\n",
    "    '''\n",
    "    Create overlaying histograms of independet variables(split by target)\n",
    "    '''\n",
    "    plt.hist(df_churn[num_var], \n",
    "             alpha=0.5,\n",
    "             density = True,\n",
    "             label='Churn')\n",
    "\n",
    "    \n",
    "    plt.hist(df_no_churn[num_var], \n",
    "             alpha=0.5,\n",
    "             density = True,\n",
    "             label='No Churn')\n",
    "\n",
    "    plt.legend(loc='upper right')\n",
    "    plt.title(f'{num_var} distribution (Churn vs. No Churn)')\n",
    "    plt.show()\n",
    "\n",
    "    \n",
    "for num_var in ['tenure' ,'MonthlyCharges' , 'TotalCharges']:\n",
    "    create_histograms(num_var)"
   ]
  },
  {
   "cell_type": "markdown",
   "id": "a393dc47",
   "metadata": {},
   "source": [
    "## Distribution of Categorical Variables"
   ]
  },
  {
   "cell_type": "markdown",
   "id": "7d398657",
   "metadata": {},
   "source": [
    "---\n",
    "Gender and phone service seem to not affect churn rate at all. \n",
    "\n",
    "MultipleLines is a close call. It seems to affect churn rate a tiny bit if at all"
   ]
  },
  {
   "cell_type": "code",
   "execution_count": 56,
   "id": "df3fa19d",
   "metadata": {},
   "outputs": [],
   "source": [
    "# create df for cat variables\n",
    "df_cat_var = df.select_dtypes(include=object).drop('Churn', axis=1)"
   ]
  },
  {
   "cell_type": "code",
   "execution_count": 57,
   "id": "b1b44eda",
   "metadata": {},
   "outputs": [],
   "source": [
    "def create_stacked_perc_graph(cat_var):\n",
    "    '''\n",
    "    create stacked percentage graph for the independent categorical variables \n",
    "    '''\n",
    "    \n",
    "    # get percentage df \n",
    "    cross_tab_prop = pd.crosstab(index = df_cat_var[cat_var],\n",
    "                                 columns = df['Churn'],\n",
    "                                 normalize = \"index\")\n",
    "\n",
    "    # show stacked graph\n",
    "    ax = cross_tab_prop.plot(kind='bar', \n",
    "                    stacked=True, \n",
    "                    colormap='tab10', \n",
    "                    figsize=(10, 6))\n",
    "    \n",
    "    \n",
    "    # show proportions annotations within the bar\n",
    "    current_x = {}\n",
    "    for p in ax.patches:\n",
    "        x_spot = p.get_x()\n",
    "        if x_spot not in current_x:\n",
    "            current_x[x_spot] = p.get_height()\n",
    "        else:\n",
    "            current_x[x_spot] += p.get_height()\n",
    "        ax.annotate(str(int(p.get_height()*100))+'%', (p.get_x(), current_x[x_spot] - p.get_height()/2))\n",
    "\n",
    "        \n",
    "    \n",
    "    plt.xlabel(cat_var)\n",
    "    plt.ylabel('proportions')\n",
    "    plt.show()"
   ]
  },
  {
   "cell_type": "code",
   "execution_count": 58,
   "id": "42b7043a",
   "metadata": {
    "scrolled": true
   },
   "outputs": [
    {
     "data": {
      "image/png": "[encoded data removed]",
      "text/plain": [
       "<Figure size 720x432 with 1 Axes>"
      ]
     },
     "metadata": {
      "needs_background": "light"
     },
     "output_type": "display_data"
    },
    {
     "data": {
      "image/png": "[encoded data removed]",
      "text/plain": [
       "<Figure size 720x432 with 1 Axes>"
      ]
     },
     "metadata": {
      "needs_background": "light"
     },
     "output_type": "display_data"
    },
    {
     "data": {
      "image/png": "[encoded data removed]",
      "text/plain": [
       "<Figure size 720x432 with 1 Axes>"
      ]
     },
     "metadata": {
      "needs_background": "light"
     },
     "output_type": "display_data"
    },
    {
     "data": {
      "image/png": "[encoded data removed]",
      "text/plain": [
       "<Figure size 720x432 with 1 Axes>"
      ]
     },
     "metadata": {
      "needs_background": "light"
     },
     "output_type": "display_data"
    },
    {
     "data": {
      "image/png": "[encoded data removed]",
      "text/plain": [
       "<Figure size 720x432 with 1 Axes>"
      ]
     },
     "metadata": {
      "needs_background": "light"
     },
     "output_type": "display_data"
    },
    {
     "data": {
      "image/png": "[encoded data removed]",
      "text/plain": [
       "<Figure size 720x432 with 1 Axes>"
      ]
     },
     "metadata": {
      "needs_background": "light"
     },
     "output_type": "display_data"
    },
    {
     "data": {
      "image/png": "[encoded data removed]",
      "text/plain": [
       "<Figure size 720x432 with 1 Axes>"
      ]
     },
     "metadata": {
      "needs_background": "light"
     },
     "output_type": "display_data"
    },
    {
     "data": {
      "image/png": "[encoded data removed]",
      "text/plain": [
       "<Figure size 720x432 with 1 Axes>"
      ]
     },
     "metadata": {
      "needs_background": "light"
     },
     "output_type": "display_data"
    },
    {
     "data": {
      "image/png": "[encoded data removed]",
      "text/plain": [
       "<Figure size 720x432 with 1 Axes>"
      ]
     },
     "metadata": {
      "needs_background": "light"
     },
     "output_type": "display_data"
    },
    {
     "data": {
      "image/png": "[encoded data removed]",
      "text/plain": [
       "<Figure size 720x432 with 1 Axes>"
      ]
     },
     "metadata": {
      "needs_background": "light"
     },
     "output_type": "display_data"
    },
    {
     "data": {
      "image/png": "[encoded data removed]",
      "text/plain": [
       "<Figure size 720x432 with 1 Axes>"
      ]
     },
     "metadata": {
      "needs_background": "light"
     },
     "output_type": "display_data"
    },
    {
     "data": {
      "image/png": "[encoded data removed]",
      "text/plain": [
       "<Figure size 720x432 with 1 Axes>"
      ]
     },
     "metadata": {
      "needs_background": "light"
     },
     "output_type": "display_data"
    },
    {
     "data": {
      "image/png": "[encoded data removed]",
      "text/plain": [
       "<Figure size 720x432 with 1 Axes>"
      ]
     },
     "metadata": {
      "needs_background": "light"
     },
     "output_type": "display_data"
    },
    {
     "data": {
      "image/png": "[encoded data removed]",
      "text/plain": [
       "<Figure size 720x432 with 1 Axes>"
      ]
     },
     "metadata": {
      "needs_background": "light"
     },
     "output_type": "display_data"
    },
    {
     "data": {
      "image/png": "[encoded data removed]",
      "text/plain": [
       "<Figure size 720x432 with 1 Axes>"
      ]
     },
     "metadata": {
      "needs_background": "light"
     },
     "output_type": "display_data"
    },
    {
     "data": {
      "image/png": "[encoded data removed]",
      "text/plain": [
       "<Figure size 720x432 with 1 Axes>"
      ]
     },
     "metadata": {
      "needs_background": "light"
     },
     "output_type": "display_data"
    }
   ],
   "source": [
    "for column in df_cat_var.columns:\n",
    "    create_stacked_perc_graph(column)"
   ]
  },
  {
   "cell_type": "markdown",
   "id": "d322ab2b",
   "metadata": {},
   "source": [
    "# Feature Selection"
   ]
  },
  {
   "cell_type": "markdown",
   "id": "cbd188d0",
   "metadata": {},
   "source": [
    "There are many ML techniques for selecting variables. \n",
    "For example, to find feaure importance btw independent numerical variables vs. target categorical variable, we can use:\n",
    "1. ANOVA (linear)\n",
    "2. point biserial correlation (linear)(only if the target is naturally dichotomous)\n",
    "3. Kendall’s rank coefficient (non-parametric)\n",
    "4. Predictive Power Score\n",
    "...etc\n",
    "\n",
    "To find feature importance btw. independent categorical variable vs. target categorical variable, we can use:\n",
    "1. Chi-square\n",
    "2. Mutual Information.\n",
    "3. Predictive Power Score\n",
    "...etc\n",
    "\n",
    "In this project, we will only employ the following:\n",
    "1. point biserial correlation (for selecting independent numerical variables)\n",
    "2. Chi-square & Mutual Information (for selecting independent categorical variables)"
   ]
  },
  {
   "cell_type": "markdown",
   "id": "95480b1b",
   "metadata": {},
   "source": [
    "## point biserial correlation"
   ]
  },
  {
   "cell_type": "markdown",
   "id": "617cdabe",
   "metadata": {},
   "source": [
    "Longer tenure correlates with higher Churn. \n",
    "\n",
    "Higher Monthly Charges correlate with higher Churn. This is expected since no customer would be happy if the company increase the price.\n",
    "\n",
    "TotalCharges highly correlate with tenure & monthly charges, since total charges = tenure * monthly charges (assuming no price changes)\n",
    "\n",
    "\n",
    "Since total charges highly correlate with the other two variables, we can drop it. \n"
   ]
  },
  {
   "cell_type": "code",
   "execution_count": 59,
   "id": "d5f036c2",
   "metadata": {},
   "outputs": [
    {
     "data": {
      "text/html": [
       "<div>\n",
       "<style scoped>\n",
       "    .dataframe tbody tr th:only-of-type {\n",
       "        vertical-align: middle;\n",
       "    }\n",
       "\n",
       "    .dataframe tbody tr th {\n",
       "        vertical-align: top;\n",
       "    }\n",
       "\n",
       "    .dataframe thead th {\n",
       "        text-align: right;\n",
       "    }\n",
       "</style>\n",
       "<table border=\"1\" class=\"dataframe\">\n",
       "  <thead>\n",
       "    <tr style=\"text-align: right;\">\n",
       "      <th></th>\n",
       "      <th>tenure</th>\n",
       "      <th>MonthlyCharges</th>\n",
       "      <th>TotalCharges</th>\n",
       "      <th>Churn</th>\n",
       "    </tr>\n",
       "  </thead>\n",
       "  <tbody>\n",
       "    <tr>\n",
       "      <th>tenure</th>\n",
       "      <td>1.000000</td>\n",
       "      <td>0.246862</td>\n",
       "      <td>0.825880</td>\n",
       "      <td>-0.354049</td>\n",
       "    </tr>\n",
       "    <tr>\n",
       "      <th>MonthlyCharges</th>\n",
       "      <td>0.246862</td>\n",
       "      <td>1.000000</td>\n",
       "      <td>0.651065</td>\n",
       "      <td>0.192858</td>\n",
       "    </tr>\n",
       "    <tr>\n",
       "      <th>TotalCharges</th>\n",
       "      <td>0.825880</td>\n",
       "      <td>0.651065</td>\n",
       "      <td>1.000000</td>\n",
       "      <td>-0.199484</td>\n",
       "    </tr>\n",
       "    <tr>\n",
       "      <th>Churn</th>\n",
       "      <td>-0.354049</td>\n",
       "      <td>0.192858</td>\n",
       "      <td>-0.199484</td>\n",
       "      <td>1.000000</td>\n",
       "    </tr>\n",
       "  </tbody>\n",
       "</table>\n",
       "</div>"
      ],
      "text/plain": [
       "                  tenure  MonthlyCharges  TotalCharges     Churn\n",
       "tenure          1.000000        0.246862      0.825880 -0.354049\n",
       "MonthlyCharges  0.246862        1.000000      0.651065  0.192858\n",
       "TotalCharges    0.825880        0.651065      1.000000 -0.199484\n",
       "Churn          -0.354049        0.192858     -0.199484  1.000000"
      ]
     },
     "execution_count": 59,
     "metadata": {},
     "output_type": "execute_result"
    }
   ],
   "source": [
    "# point biserial correlation is mathematically equivalent to the Pearson correlation\n",
    "df_num_var = df[['tenure','MonthlyCharges','TotalCharges','Churn']].copy()\n",
    "yes2one = {'Yes':1 , 'No':0}\n",
    "df_num_var['Churn'] = df_num_var['Churn'].map(yes2one)\n",
    "\n",
    "\n",
    "# display correlation matrix\n",
    "df_num_var.corr()"
   ]
  },
  {
   "cell_type": "markdown",
   "id": "4e2dc97c",
   "metadata": {},
   "source": [
    "## Chi-square"
   ]
  },
  {
   "cell_type": "markdown",
   "id": "0e74519d",
   "metadata": {},
   "source": [
    "We will drop gender and phone service. These two variables are useless in predicting churn rate."
   ]
  },
  {
   "cell_type": "code",
   "execution_count": 60,
   "id": "0eddef1c",
   "metadata": {},
   "outputs": [],
   "source": [
    "# create df for chi-squared\n",
    "df_chi = df.copy().select_dtypes(include=object).drop('Churn', axis=1)"
   ]
  },
  {
   "cell_type": "code",
   "execution_count": 61,
   "id": "4c9ae799",
   "metadata": {},
   "outputs": [
    {
     "name": "stdout",
     "output_type": "stream",
     "text": [
      "We can drop these variables\n"
     ]
    },
    {
     "data": {
      "text/html": [
       "<div>\n",
       "<style scoped>\n",
       "    .dataframe tbody tr th:only-of-type {\n",
       "        vertical-align: middle;\n",
       "    }\n",
       "\n",
       "    .dataframe tbody tr th {\n",
       "        vertical-align: top;\n",
       "    }\n",
       "\n",
       "    .dataframe thead th {\n",
       "        text-align: right;\n",
       "    }\n",
       "</style>\n",
       "<table border=\"1\" class=\"dataframe\">\n",
       "  <thead>\n",
       "    <tr style=\"text-align: right;\">\n",
       "      <th></th>\n",
       "      <th>p_value</th>\n",
       "    </tr>\n",
       "  </thead>\n",
       "  <tbody>\n",
       "    <tr>\n",
       "      <th>gender</th>\n",
       "      <td>0.490488</td>\n",
       "    </tr>\n",
       "    <tr>\n",
       "      <th>PhoneService</th>\n",
       "      <td>0.349924</td>\n",
       "    </tr>\n",
       "  </tbody>\n",
       "</table>\n",
       "</div>"
      ],
      "text/plain": [
       "               p_value\n",
       "gender        0.490488\n",
       "PhoneService  0.349924"
      ]
     },
     "metadata": {},
     "output_type": "display_data"
    },
    {
     "name": "stdout",
     "output_type": "stream",
     "text": [
      "\n",
      "\n",
      "We need to keep these variables\n"
     ]
    },
    {
     "data": {
      "text/html": [
       "<div>\n",
       "<style scoped>\n",
       "    .dataframe tbody tr th:only-of-type {\n",
       "        vertical-align: middle;\n",
       "    }\n",
       "\n",
       "    .dataframe tbody tr th {\n",
       "        vertical-align: top;\n",
       "    }\n",
       "\n",
       "    .dataframe thead th {\n",
       "        text-align: right;\n",
       "    }\n",
       "</style>\n",
       "<table border=\"1\" class=\"dataframe\">\n",
       "  <thead>\n",
       "    <tr style=\"text-align: right;\">\n",
       "      <th></th>\n",
       "      <th>p_value</th>\n",
       "    </tr>\n",
       "  </thead>\n",
       "  <tbody>\n",
       "    <tr>\n",
       "      <th>Contract</th>\n",
       "      <td>7.326182e-257</td>\n",
       "    </tr>\n",
       "    <tr>\n",
       "      <th>OnlineSecurity</th>\n",
       "      <td>1.400687e-184</td>\n",
       "    </tr>\n",
       "    <tr>\n",
       "      <th>TechSupport</th>\n",
       "      <td>7.407808e-180</td>\n",
       "    </tr>\n",
       "    <tr>\n",
       "      <th>InternetService</th>\n",
       "      <td>5.831199e-159</td>\n",
       "    </tr>\n",
       "    <tr>\n",
       "      <th>PaymentMethod</th>\n",
       "      <td>1.426310e-139</td>\n",
       "    </tr>\n",
       "    <tr>\n",
       "      <th>OnlineBackup</th>\n",
       "      <td>7.776099e-131</td>\n",
       "    </tr>\n",
       "    <tr>\n",
       "      <th>DeviceProtection</th>\n",
       "      <td>1.959389e-121</td>\n",
       "    </tr>\n",
       "    <tr>\n",
       "      <th>StreamingMovies</th>\n",
       "      <td>5.353560e-82</td>\n",
       "    </tr>\n",
       "    <tr>\n",
       "      <th>StreamingTV</th>\n",
       "      <td>1.324641e-81</td>\n",
       "    </tr>\n",
       "    <tr>\n",
       "      <th>PaperlessBilling</th>\n",
       "      <td>8.236203e-58</td>\n",
       "    </tr>\n",
       "    <tr>\n",
       "      <th>Dependents</th>\n",
       "      <td>2.019659e-42</td>\n",
       "    </tr>\n",
       "    <tr>\n",
       "      <th>SeniorCitizen</th>\n",
       "      <td>2.479256e-36</td>\n",
       "    </tr>\n",
       "    <tr>\n",
       "      <th>Partner</th>\n",
       "      <td>3.973798e-36</td>\n",
       "    </tr>\n",
       "    <tr>\n",
       "      <th>MultipleLines</th>\n",
       "      <td>3.567927e-03</td>\n",
       "    </tr>\n",
       "  </tbody>\n",
       "</table>\n",
       "</div>"
      ],
      "text/plain": [
       "                        p_value\n",
       "Contract          7.326182e-257\n",
       "OnlineSecurity    1.400687e-184\n",
       "TechSupport       7.407808e-180\n",
       "InternetService   5.831199e-159\n",
       "PaymentMethod     1.426310e-139\n",
       "OnlineBackup      7.776099e-131\n",
       "DeviceProtection  1.959389e-121\n",
       "StreamingMovies    5.353560e-82\n",
       "StreamingTV        1.324641e-81\n",
       "PaperlessBilling   8.236203e-58\n",
       "Dependents         2.019659e-42\n",
       "SeniorCitizen      2.479256e-36\n",
       "Partner            3.973798e-36\n",
       "MultipleLines      3.567927e-03"
      ]
     },
     "metadata": {},
     "output_type": "display_data"
    }
   ],
   "source": [
    "# initialize var to drop\n",
    "var_drop = {}\n",
    "var_keep = {}\n",
    "\n",
    "for column in df_chi.columns:\n",
    "    \n",
    "    # run chi^2\n",
    "    contingency = pd.crosstab(df_chi[column], df['Churn'])\n",
    "    c, p, dof, expected = chi2_contingency(contingency)\n",
    "\n",
    "    # show values\n",
    "    if p > 0.05:\n",
    "        var_drop[column] = p\n",
    "    else:\n",
    "        var_keep[column] = p\n",
    "        \n",
    "        \n",
    "        \n",
    "# Show variables to drop\n",
    "print('We can drop these variables')\n",
    "display(pd.DataFrame(var_drop, ['p_value']).T)\n",
    "\n",
    "\n",
    "# Show variables to keep\n",
    "print('\\n\\nWe need to keep these variables')\n",
    "df_var_keep = pd.DataFrame(var_keep, ['p_value']).T\n",
    "df_var_keep = df_var_keep.sort_values(by = 'p_value', ascending = True)\n",
    "display(df_var_keep)\n"
   ]
  },
  {
   "cell_type": "markdown",
   "id": "9cbaa304",
   "metadata": {},
   "source": [
    "## Mutual Information"
   ]
  },
  {
   "cell_type": "markdown",
   "id": "27058882",
   "metadata": {},
   "source": [
    "From looking at the MI scores, we would want to pick top n features. \n",
    "\n",
    "MultipleLines, PhoneService & gender seem obviously lower than other features. \n",
    "\n",
    "This result conflicts with chi-square test results, which only suggest to drop PhoneService & gender. Although chi-square results suggest to keep MultipleLines, its p_value is still much higher than all other variables."
   ]
  },
  {
   "cell_type": "code",
   "execution_count": 62,
   "id": "290d4085",
   "metadata": {},
   "outputs": [
    {
     "data": {
      "text/plain": [
       "Contract            0.098182\n",
       "OnlineSecurity      0.064528\n",
       "TechSupport         0.062873\n",
       "InternetService     0.055394\n",
       "OnlineBackup        0.046659\n",
       "PaymentMethod       0.044423\n",
       "DeviceProtection    0.043784\n",
       "StreamingMovies     0.031918\n",
       "StreamingTV         0.031803\n",
       "PaperlessBilling    0.019119\n",
       "Dependents          0.014270\n",
       "Partner             0.011383\n",
       "SeniorCitizen       0.010533\n",
       "MultipleLines       0.000798\n",
       "PhoneService        0.000069\n",
       "gender              0.000037\n",
       "dtype: float64"
      ]
     },
     "metadata": {},
     "output_type": "display_data"
    }
   ],
   "source": [
    "# compute the mutual infomation score\n",
    "def compute_mutual_information(categorical_serie):\n",
    "    return mutual_info_score(categorical_serie, df['Churn'])\n",
    "\n",
    "\n",
    "# Show MI score\n",
    "categorical_variables = df.select_dtypes(include=object).drop('Churn', axis=1)\n",
    "feature_importance = categorical_variables.apply(compute_mutual_information).sort_values(ascending=False)\n",
    "display(feature_importance)"
   ]
  },
  {
   "cell_type": "markdown",
   "id": "bb17839c",
   "metadata": {},
   "source": [
    "## Dropping the features"
   ]
  },
  {
   "cell_type": "code",
   "execution_count": 63,
   "id": "278b2c2b",
   "metadata": {},
   "outputs": [
    {
     "data": {
      "text/html": [
       "<div>\n",
       "<style scoped>\n",
       "    .dataframe tbody tr th:only-of-type {\n",
       "        vertical-align: middle;\n",
       "    }\n",
       "\n",
       "    .dataframe tbody tr th {\n",
       "        vertical-align: top;\n",
       "    }\n",
       "\n",
       "    .dataframe thead th {\n",
       "        text-align: right;\n",
       "    }\n",
       "</style>\n",
       "<table border=\"1\" class=\"dataframe\">\n",
       "  <thead>\n",
       "    <tr style=\"text-align: right;\">\n",
       "      <th></th>\n",
       "      <th>SeniorCitizen</th>\n",
       "      <th>Partner</th>\n",
       "      <th>Dependents</th>\n",
       "      <th>tenure</th>\n",
       "      <th>InternetService</th>\n",
       "      <th>OnlineSecurity</th>\n",
       "      <th>OnlineBackup</th>\n",
       "      <th>DeviceProtection</th>\n",
       "      <th>TechSupport</th>\n",
       "      <th>StreamingTV</th>\n",
       "      <th>StreamingMovies</th>\n",
       "      <th>Contract</th>\n",
       "      <th>PaperlessBilling</th>\n",
       "      <th>PaymentMethod</th>\n",
       "      <th>MonthlyCharges</th>\n",
       "      <th>Churn</th>\n",
       "    </tr>\n",
       "  </thead>\n",
       "  <tbody>\n",
       "    <tr>\n",
       "      <th>0</th>\n",
       "      <td>No</td>\n",
       "      <td>Yes</td>\n",
       "      <td>No</td>\n",
       "      <td>1</td>\n",
       "      <td>DSL</td>\n",
       "      <td>No</td>\n",
       "      <td>Yes</td>\n",
       "      <td>No</td>\n",
       "      <td>No</td>\n",
       "      <td>No</td>\n",
       "      <td>No</td>\n",
       "      <td>Month-to-month</td>\n",
       "      <td>Yes</td>\n",
       "      <td>Electronic check</td>\n",
       "      <td>29.85</td>\n",
       "      <td>No</td>\n",
       "    </tr>\n",
       "    <tr>\n",
       "      <th>1</th>\n",
       "      <td>No</td>\n",
       "      <td>No</td>\n",
       "      <td>No</td>\n",
       "      <td>34</td>\n",
       "      <td>DSL</td>\n",
       "      <td>Yes</td>\n",
       "      <td>No</td>\n",
       "      <td>Yes</td>\n",
       "      <td>No</td>\n",
       "      <td>No</td>\n",
       "      <td>No</td>\n",
       "      <td>One year</td>\n",
       "      <td>No</td>\n",
       "      <td>Mailed check</td>\n",
       "      <td>56.95</td>\n",
       "      <td>No</td>\n",
       "    </tr>\n",
       "  </tbody>\n",
       "</table>\n",
       "</div>"
      ],
      "text/plain": [
       "  SeniorCitizen Partner Dependents  tenure InternetService OnlineSecurity  \\\n",
       "0            No     Yes         No       1             DSL             No   \n",
       "1            No      No         No      34             DSL            Yes   \n",
       "\n",
       "  OnlineBackup DeviceProtection TechSupport StreamingTV StreamingMovies  \\\n",
       "0          Yes               No          No          No              No   \n",
       "1           No              Yes          No          No              No   \n",
       "\n",
       "         Contract PaperlessBilling     PaymentMethod  MonthlyCharges Churn  \n",
       "0  Month-to-month              Yes  Electronic check           29.85    No  \n",
       "1        One year               No      Mailed check           56.95    No  "
      ]
     },
     "execution_count": 63,
     "metadata": {},
     "output_type": "execute_result"
    }
   ],
   "source": [
    "df = df.drop(columns = ['gender','MultipleLines' , 'PhoneService', 'TotalCharges'])\n",
    "df.head(2)"
   ]
  },
  {
   "cell_type": "markdown",
   "id": "7d1157aa",
   "metadata": {},
   "source": [
    "# Feature Engineering"
   ]
  },
  {
   "cell_type": "markdown",
   "id": "49326fd2",
   "metadata": {},
   "source": [
    "In this section, we either create new features or modify existing features"
   ]
  },
  {
   "cell_type": "markdown",
   "id": "9a80adb1",
   "metadata": {},
   "source": [
    "## Label Encoding"
   ]
  },
  {
   "cell_type": "markdown",
   "id": "b4eb2dc6",
   "metadata": {},
   "source": [
    "---\n",
    "We shall use label encoding for variables with natural ordering, for ex: existence of X vs non-existence of X.\n",
    "\n",
    "Thus, we can use label encoding (1,0) for all (Yes, No) variables ..etc\n",
    "\n",
    "Fun fact, we can actually use label encoding on gender too. Since we can see male vs. female as:\n",
    "1. male vs. not a male\n",
    "\n",
    "OR\n",
    "\n",
    "2. female vs. not a female"
   ]
  },
  {
   "cell_type": "code",
   "execution_count": 64,
   "id": "9efc30d5",
   "metadata": {},
   "outputs": [],
   "source": [
    "# create a copy here, so we can always refer back to df in the future convinently \n",
    "df_transformed = df.copy()"
   ]
  },
  {
   "cell_type": "code",
   "execution_count": 65,
   "id": "0aaff735",
   "metadata": {},
   "outputs": [],
   "source": [
    "label_encoding_columns = ['SeniorCitizen', 'Partner', 'Dependents', 'PaperlessBilling',  'Churn']\n",
    "\n",
    "for column in label_encoding_columns:\n",
    "    df_transformed[column] = df_transformed[column].map({'No':0, 'Yes':1})"
   ]
  },
  {
   "cell_type": "markdown",
   "id": "4f3e49f1",
   "metadata": {},
   "source": [
    "## One-Hot Encoding"
   ]
  },
  {
   "cell_type": "code",
   "execution_count": 66,
   "id": "c265dc4e",
   "metadata": {},
   "outputs": [],
   "source": [
    "one_hot_encoding_columns = df_transformed.select_dtypes(include=object).columns"
   ]
  },
  {
   "cell_type": "code",
   "execution_count": 67,
   "id": "3371666e",
   "metadata": {},
   "outputs": [],
   "source": [
    "df_transformed = pd.get_dummies(df_transformed, columns = one_hot_encoding_columns)"
   ]
  },
  {
   "cell_type": "code",
   "execution_count": 68,
   "id": "89b74aa2",
   "metadata": {},
   "outputs": [
    {
     "data": {
      "text/html": [
       "<div>\n",
       "<style scoped>\n",
       "    .dataframe tbody tr th:only-of-type {\n",
       "        vertical-align: middle;\n",
       "    }\n",
       "\n",
       "    .dataframe tbody tr th {\n",
       "        vertical-align: top;\n",
       "    }\n",
       "\n",
       "    .dataframe thead th {\n",
       "        text-align: right;\n",
       "    }\n",
       "</style>\n",
       "<table border=\"1\" class=\"dataframe\">\n",
       "  <thead>\n",
       "    <tr style=\"text-align: right;\">\n",
       "      <th></th>\n",
       "      <th>SeniorCitizen</th>\n",
       "      <th>Partner</th>\n",
       "      <th>Dependents</th>\n",
       "      <th>tenure</th>\n",
       "      <th>PaperlessBilling</th>\n",
       "      <th>MonthlyCharges</th>\n",
       "      <th>Churn</th>\n",
       "      <th>InternetService_DSL</th>\n",
       "      <th>InternetService_Fiber optic</th>\n",
       "      <th>InternetService_No</th>\n",
       "      <th>...</th>\n",
       "      <th>StreamingMovies_No</th>\n",
       "      <th>StreamingMovies_No internet service</th>\n",
       "      <th>StreamingMovies_Yes</th>\n",
       "      <th>Contract_Month-to-month</th>\n",
       "      <th>Contract_One year</th>\n",
       "      <th>Contract_Two year</th>\n",
       "      <th>PaymentMethod_Bank transfer (automatic)</th>\n",
       "      <th>PaymentMethod_Credit card (automatic)</th>\n",
       "      <th>PaymentMethod_Electronic check</th>\n",
       "      <th>PaymentMethod_Mailed check</th>\n",
       "    </tr>\n",
       "  </thead>\n",
       "  <tbody>\n",
       "    <tr>\n",
       "      <th>0</th>\n",
       "      <td>0</td>\n",
       "      <td>1</td>\n",
       "      <td>0</td>\n",
       "      <td>1</td>\n",
       "      <td>1</td>\n",
       "      <td>29.85</td>\n",
       "      <td>0</td>\n",
       "      <td>1</td>\n",
       "      <td>0</td>\n",
       "      <td>0</td>\n",
       "      <td>...</td>\n",
       "      <td>1</td>\n",
       "      <td>0</td>\n",
       "      <td>0</td>\n",
       "      <td>1</td>\n",
       "      <td>0</td>\n",
       "      <td>0</td>\n",
       "      <td>0</td>\n",
       "      <td>0</td>\n",
       "      <td>1</td>\n",
       "      <td>0</td>\n",
       "    </tr>\n",
       "    <tr>\n",
       "      <th>1</th>\n",
       "      <td>0</td>\n",
       "      <td>0</td>\n",
       "      <td>0</td>\n",
       "      <td>34</td>\n",
       "      <td>0</td>\n",
       "      <td>56.95</td>\n",
       "      <td>0</td>\n",
       "      <td>1</td>\n",
       "      <td>0</td>\n",
       "      <td>0</td>\n",
       "      <td>...</td>\n",
       "      <td>1</td>\n",
       "      <td>0</td>\n",
       "      <td>0</td>\n",
       "      <td>0</td>\n",
       "      <td>1</td>\n",
       "      <td>0</td>\n",
       "      <td>0</td>\n",
       "      <td>0</td>\n",
       "      <td>0</td>\n",
       "      <td>1</td>\n",
       "    </tr>\n",
       "  </tbody>\n",
       "</table>\n",
       "<p>2 rows × 35 columns</p>\n",
       "</div>"
      ],
      "text/plain": [
       "   SeniorCitizen  Partner  Dependents  tenure  PaperlessBilling  \\\n",
       "0              0        1           0       1                 1   \n",
       "1              0        0           0      34                 0   \n",
       "\n",
       "   MonthlyCharges  Churn  InternetService_DSL  InternetService_Fiber optic  \\\n",
       "0           29.85      0                    1                            0   \n",
       "1           56.95      0                    1                            0   \n",
       "\n",
       "   InternetService_No  ...  StreamingMovies_No  \\\n",
       "0                   0  ...                   1   \n",
       "1                   0  ...                   1   \n",
       "\n",
       "   StreamingMovies_No internet service  StreamingMovies_Yes  \\\n",
       "0                                    0                    0   \n",
       "1                                    0                    0   \n",
       "\n",
       "   Contract_Month-to-month  Contract_One year  Contract_Two year  \\\n",
       "0                        1                  0                  0   \n",
       "1                        0                  1                  0   \n",
       "\n",
       "   PaymentMethod_Bank transfer (automatic)  \\\n",
       "0                                        0   \n",
       "1                                        0   \n",
       "\n",
       "   PaymentMethod_Credit card (automatic)  PaymentMethod_Electronic check  \\\n",
       "0                                      0                               1   \n",
       "1                                      0                               0   \n",
       "\n",
       "   PaymentMethod_Mailed check  \n",
       "0                           0  \n",
       "1                           1  \n",
       "\n",
       "[2 rows x 35 columns]"
      ]
     },
     "execution_count": 68,
     "metadata": {},
     "output_type": "execute_result"
    }
   ],
   "source": [
    "df_transformed.head(2)"
   ]
  },
  {
   "cell_type": "markdown",
   "id": "d3f701ae",
   "metadata": {},
   "source": [
    "## Normalization\n",
    "\n",
    "Let's change all numerical variables' scale to min-max scale (0,1). This ensures we do not give some numerical variables more weight due to their range."
   ]
  },
  {
   "cell_type": "code",
   "execution_count": 69,
   "id": "6e48b8e8",
   "metadata": {},
   "outputs": [],
   "source": [
    "min_max_columns = ['tenure', 'MonthlyCharges']\n",
    "  \n",
    "# apply normalization techniques\n",
    "for column in min_max_columns:\n",
    "    df_transformed[column] = (df_transformed[column] - df_transformed[column].min()) / (df_transformed[column].max() - df_transformed[column].min())    \n",
    "  \n"
   ]
  },
  {
   "cell_type": "code",
   "execution_count": 70,
   "id": "a2140117",
   "metadata": {},
   "outputs": [
    {
     "data": {
      "text/html": [
       "<div>\n",
       "<style scoped>\n",
       "    .dataframe tbody tr th:only-of-type {\n",
       "        vertical-align: middle;\n",
       "    }\n",
       "\n",
       "    .dataframe tbody tr th {\n",
       "        vertical-align: top;\n",
       "    }\n",
       "\n",
       "    .dataframe thead th {\n",
       "        text-align: right;\n",
       "    }\n",
       "</style>\n",
       "<table border=\"1\" class=\"dataframe\">\n",
       "  <thead>\n",
       "    <tr style=\"text-align: right;\">\n",
       "      <th></th>\n",
       "      <th>SeniorCitizen</th>\n",
       "      <th>Partner</th>\n",
       "      <th>Dependents</th>\n",
       "      <th>tenure</th>\n",
       "      <th>PaperlessBilling</th>\n",
       "      <th>MonthlyCharges</th>\n",
       "      <th>Churn</th>\n",
       "      <th>InternetService_DSL</th>\n",
       "      <th>InternetService_Fiber optic</th>\n",
       "      <th>InternetService_No</th>\n",
       "      <th>...</th>\n",
       "      <th>StreamingMovies_No</th>\n",
       "      <th>StreamingMovies_No internet service</th>\n",
       "      <th>StreamingMovies_Yes</th>\n",
       "      <th>Contract_Month-to-month</th>\n",
       "      <th>Contract_One year</th>\n",
       "      <th>Contract_Two year</th>\n",
       "      <th>PaymentMethod_Bank transfer (automatic)</th>\n",
       "      <th>PaymentMethod_Credit card (automatic)</th>\n",
       "      <th>PaymentMethod_Electronic check</th>\n",
       "      <th>PaymentMethod_Mailed check</th>\n",
       "    </tr>\n",
       "  </thead>\n",
       "  <tbody>\n",
       "    <tr>\n",
       "      <th>0</th>\n",
       "      <td>0</td>\n",
       "      <td>1</td>\n",
       "      <td>0</td>\n",
       "      <td>0.000000</td>\n",
       "      <td>1</td>\n",
       "      <td>0.115423</td>\n",
       "      <td>0</td>\n",
       "      <td>1</td>\n",
       "      <td>0</td>\n",
       "      <td>0</td>\n",
       "      <td>...</td>\n",
       "      <td>1</td>\n",
       "      <td>0</td>\n",
       "      <td>0</td>\n",
       "      <td>1</td>\n",
       "      <td>0</td>\n",
       "      <td>0</td>\n",
       "      <td>0</td>\n",
       "      <td>0</td>\n",
       "      <td>1</td>\n",
       "      <td>0</td>\n",
       "    </tr>\n",
       "    <tr>\n",
       "      <th>1</th>\n",
       "      <td>0</td>\n",
       "      <td>0</td>\n",
       "      <td>0</td>\n",
       "      <td>0.464789</td>\n",
       "      <td>0</td>\n",
       "      <td>0.385075</td>\n",
       "      <td>0</td>\n",
       "      <td>1</td>\n",
       "      <td>0</td>\n",
       "      <td>0</td>\n",
       "      <td>...</td>\n",
       "      <td>1</td>\n",
       "      <td>0</td>\n",
       "      <td>0</td>\n",
       "      <td>0</td>\n",
       "      <td>1</td>\n",
       "      <td>0</td>\n",
       "      <td>0</td>\n",
       "      <td>0</td>\n",
       "      <td>0</td>\n",
       "      <td>1</td>\n",
       "    </tr>\n",
       "  </tbody>\n",
       "</table>\n",
       "<p>2 rows × 35 columns</p>\n",
       "</div>"
      ],
      "text/plain": [
       "   SeniorCitizen  Partner  Dependents    tenure  PaperlessBilling  \\\n",
       "0              0        1           0  0.000000                 1   \n",
       "1              0        0           0  0.464789                 0   \n",
       "\n",
       "   MonthlyCharges  Churn  InternetService_DSL  InternetService_Fiber optic  \\\n",
       "0        0.115423      0                    1                            0   \n",
       "1        0.385075      0                    1                            0   \n",
       "\n",
       "   InternetService_No  ...  StreamingMovies_No  \\\n",
       "0                   0  ...                   1   \n",
       "1                   0  ...                   1   \n",
       "\n",
       "   StreamingMovies_No internet service  StreamingMovies_Yes  \\\n",
       "0                                    0                    0   \n",
       "1                                    0                    0   \n",
       "\n",
       "   Contract_Month-to-month  Contract_One year  Contract_Two year  \\\n",
       "0                        1                  0                  0   \n",
       "1                        0                  1                  0   \n",
       "\n",
       "   PaymentMethod_Bank transfer (automatic)  \\\n",
       "0                                        0   \n",
       "1                                        0   \n",
       "\n",
       "   PaymentMethod_Credit card (automatic)  PaymentMethod_Electronic check  \\\n",
       "0                                      0                               1   \n",
       "1                                      0                               0   \n",
       "\n",
       "   PaymentMethod_Mailed check  \n",
       "0                           0  \n",
       "1                           1  \n",
       "\n",
       "[2 rows x 35 columns]"
      ]
     },
     "execution_count": 70,
     "metadata": {},
     "output_type": "execute_result"
    }
   ],
   "source": [
    "df_transformed.head(2)"
   ]
  },
  {
   "cell_type": "markdown",
   "id": "f28a5762",
   "metadata": {},
   "source": [
    "# ML"
   ]
  },
  {
   "cell_type": "code",
   "execution_count": 71,
   "id": "53947dd0",
   "metadata": {},
   "outputs": [],
   "source": [
    "X = df_transformed.drop(columns = ['Churn'])\n",
    "y = df['Churn']\n",
    "\n",
    "\n",
    "# split data \n",
    "X_train, X_test, y_train, y_test = train_test_split(X,y, test_size = 0.2, random_state = 42, stratify = y)"
   ]
  },
  {
   "cell_type": "markdown",
   "id": "972bb69c",
   "metadata": {},
   "source": [
    "## Selecting a model / models\n",
    "\n",
    "Logistic regression and gradident boosting both perform very well. Let's use both."
   ]
  },
  {
   "cell_type": "code",
   "execution_count": 72,
   "id": "fed929df",
   "metadata": {},
   "outputs": [],
   "source": [
    "seed = 42\n",
    "\n",
    "models = []\n",
    "models.append(('dummy_classifier', DummyClassifier(random_state=seed, strategy='most_frequent')))\n",
    "models.append(('k_nearest_neighbors', KNeighborsClassifier()))\n",
    "models.append(('logistic_regression', LogisticRegression(random_state=seed)))\n",
    "models.append(('support_vector_machines', SVC(random_state=seed)))\n",
    "models.append(('random_forest', RandomForestClassifier(random_state=seed)))\n",
    "models.append(('gradient_boosting', GradientBoostingClassifier(random_state=seed)))\n",
    "    "
   ]
  },
  {
   "cell_type": "code",
   "execution_count": 32,
   "id": "220b6159",
   "metadata": {},
   "outputs": [],
   "source": [
    "accuracy_scores = []\n",
    "min_accuracy_scores = []\n",
    "max_accuracy_scores = []\n",
    "names = []\n",
    "\n",
    "for name, model in models:\n",
    "    arr_accuracy_score = cross_val_score(model, X_train, y_train)\n",
    "    mean_accuracy_score = np.mean(arr_accuracy_score)\n",
    "    \n",
    "    \n",
    "    # including min & max to evulate the variance of the accuracy score\n",
    "    min_accuracy_score = np.min(arr_accuracy_score)\n",
    "    max_accuracy_score = np.max(arr_accuracy_score)\n",
    "    \n",
    "    \n",
    "    # append the names\n",
    "    names.append(name)\n",
    "    \n",
    "    #append the accuracy score\n",
    "    accuracy_scores.append(mean_accuracy_score)\n",
    "    min_accuracy_scores.append(min_accuracy_score)\n",
    "    max_accuracy_scores.append(max_accuracy_score)"
   ]
  },
  {
   "cell_type": "code",
   "execution_count": null,
   "id": "387d7857",
   "metadata": {},
   "outputs": [],
   "source": []
  },
  {
   "cell_type": "code",
   "execution_count": 33,
   "id": "cdd4273e",
   "metadata": {},
   "outputs": [
    {
     "data": {
      "text/html": [
       "<div>\n",
       "<style scoped>\n",
       "    .dataframe tbody tr th:only-of-type {\n",
       "        vertical-align: middle;\n",
       "    }\n",
       "\n",
       "    .dataframe tbody tr th {\n",
       "        vertical-align: top;\n",
       "    }\n",
       "\n",
       "    .dataframe thead th {\n",
       "        text-align: right;\n",
       "    }\n",
       "</style>\n",
       "<table border=\"1\" class=\"dataframe\">\n",
       "  <thead>\n",
       "    <tr style=\"text-align: right;\">\n",
       "      <th></th>\n",
       "      <th>models</th>\n",
       "      <th>accuracy</th>\n",
       "      <th>min accuracy</th>\n",
       "      <th>max accuracy</th>\n",
       "    </tr>\n",
       "  </thead>\n",
       "  <tbody>\n",
       "    <tr>\n",
       "      <th>0</th>\n",
       "      <td>dummy_classifier</td>\n",
       "      <td>0.734222</td>\n",
       "      <td>0.734222</td>\n",
       "      <td>0.734222</td>\n",
       "    </tr>\n",
       "    <tr>\n",
       "      <th>1</th>\n",
       "      <td>k_nearest_neighbors</td>\n",
       "      <td>0.750044</td>\n",
       "      <td>0.739556</td>\n",
       "      <td>0.759111</td>\n",
       "    </tr>\n",
       "    <tr>\n",
       "      <th>2</th>\n",
       "      <td>logistic_regression</td>\n",
       "      <td>0.799111</td>\n",
       "      <td>0.782222</td>\n",
       "      <td>0.816889</td>\n",
       "    </tr>\n",
       "    <tr>\n",
       "      <th>3</th>\n",
       "      <td>support_vector_machines</td>\n",
       "      <td>0.790933</td>\n",
       "      <td>0.776000</td>\n",
       "      <td>0.817778</td>\n",
       "    </tr>\n",
       "    <tr>\n",
       "      <th>4</th>\n",
       "      <td>random_forest</td>\n",
       "      <td>0.776356</td>\n",
       "      <td>0.762667</td>\n",
       "      <td>0.788444</td>\n",
       "    </tr>\n",
       "    <tr>\n",
       "      <th>5</th>\n",
       "      <td>gradient_boosting</td>\n",
       "      <td>0.798933</td>\n",
       "      <td>0.786667</td>\n",
       "      <td>0.825778</td>\n",
       "    </tr>\n",
       "  </tbody>\n",
       "</table>\n",
       "</div>"
      ],
      "text/plain": [
       "                    models  accuracy  min accuracy  max accuracy\n",
       "0         dummy_classifier  0.734222      0.734222      0.734222\n",
       "1      k_nearest_neighbors  0.750044      0.739556      0.759111\n",
       "2      logistic_regression  0.799111      0.782222      0.816889\n",
       "3  support_vector_machines  0.790933      0.776000      0.817778\n",
       "4            random_forest  0.776356      0.762667      0.788444\n",
       "5        gradient_boosting  0.798933      0.786667      0.825778"
      ]
     },
     "execution_count": 33,
     "metadata": {},
     "output_type": "execute_result"
    }
   ],
   "source": [
    "pd.DataFrame({\n",
    "    'models' : names,\n",
    "    'accuracy' : accuracy_scores,\n",
    "    'min accuracy' : min_accuracy_scores,\n",
    "    'max accuracy' : max_accuracy_scores\n",
    "            })"
   ]
  },
  {
   "cell_type": "markdown",
   "id": "d7fc4068",
   "metadata": {},
   "source": [
    "## Hyperparameters tuning"
   ]
  },
  {
   "cell_type": "markdown",
   "id": "adc900c0",
   "metadata": {},
   "source": [
    "## Logitistic Regression"
   ]
  },
  {
   "cell_type": "code",
   "execution_count": 34,
   "id": "371cdc56",
   "metadata": {},
   "outputs": [],
   "source": [
    "model  = LogisticRegression(random_state = 42)\n",
    "\n",
    "# Create Grid \n",
    "grid = {'solver': ['newton-cg', 'lbfgs', 'liblinear'],\n",
    "     'penalty': ['l2'],\n",
    "     'C': [100, 10, 1.0, 0.1, 0.01]}\n",
    "\n",
    "\n",
    "grid_search = GridSearchCV(estimator = model,\n",
    "                           param_grid = grid, \n",
    "                           n_jobs = -1, \n",
    "                           cv = 5,  \n",
    "                           scoring='accuracy',error_score=0)\n",
    "log_reg_grid_result = grid_search.fit(X_train, y_train)"
   ]
  },
  {
   "cell_type": "code",
   "execution_count": 35,
   "id": "be26f9c7",
   "metadata": {},
   "outputs": [
    {
     "name": "stdout",
     "output_type": "stream",
     "text": [
      "Best: 0.800711 using {'C': 100, 'penalty': 'l2', 'solver': 'newton-cg'}\n",
      "\n",
      "\n",
      "\n",
      "0.800711 (0.011971) with: {'C': 100, 'penalty': 'l2', 'solver': 'newton-cg'}\n",
      "0.800711 (0.011971) with: {'C': 100, 'penalty': 'l2', 'solver': 'lbfgs'}\n",
      "0.800711 (0.011971) with: {'C': 100, 'penalty': 'l2', 'solver': 'liblinear'}\n",
      "0.800178 (0.012167) with: {'C': 10, 'penalty': 'l2', 'solver': 'newton-cg'}\n",
      "0.800178 (0.012167) with: {'C': 10, 'penalty': 'l2', 'solver': 'lbfgs'}\n",
      "0.800178 (0.012167) with: {'C': 10, 'penalty': 'l2', 'solver': 'liblinear'}\n",
      "0.799289 (0.013462) with: {'C': 1.0, 'penalty': 'l2', 'solver': 'newton-cg'}\n",
      "0.799111 (0.013655) with: {'C': 1.0, 'penalty': 'l2', 'solver': 'lbfgs'}\n",
      "0.799467 (0.013697) with: {'C': 1.0, 'penalty': 'l2', 'solver': 'liblinear'}\n",
      "0.796622 (0.014171) with: {'C': 0.1, 'penalty': 'l2', 'solver': 'newton-cg'}\n",
      "0.796622 (0.014171) with: {'C': 0.1, 'penalty': 'l2', 'solver': 'lbfgs'}\n",
      "0.796267 (0.014326) with: {'C': 0.1, 'penalty': 'l2', 'solver': 'liblinear'}\n",
      "0.790933 (0.017074) with: {'C': 0.01, 'penalty': 'l2', 'solver': 'newton-cg'}\n",
      "0.790933 (0.017074) with: {'C': 0.01, 'penalty': 'l2', 'solver': 'lbfgs'}\n",
      "0.793600 (0.015695) with: {'C': 0.01, 'penalty': 'l2', 'solver': 'liblinear'}\n"
     ]
    }
   ],
   "source": [
    "# See results\n",
    "print(\"Best: %f using %s\" % (log_reg_grid_result.best_score_, log_reg_grid_result.best_params_))\n",
    "means = log_reg_grid_result.cv_results_['mean_test_score']\n",
    "stds = log_reg_grid_result.cv_results_['std_test_score']\n",
    "params = log_reg_grid_result.cv_results_['params']\n",
    "\n",
    "print('\\n\\n')\n",
    "for mean, stdev, param in zip(means, stds, params):\n",
    "    print(\"%f (%f) with: %r\" % (mean, stdev, param))"
   ]
  },
  {
   "cell_type": "code",
   "execution_count": 36,
   "id": "eeabb012",
   "metadata": {},
   "outputs": [],
   "source": [
    "# the logistic regression w/ best params after grid search\n",
    "log_reg = grid_search"
   ]
  },
  {
   "cell_type": "markdown",
   "id": "83375a32",
   "metadata": {},
   "source": [
    "## Gradient Boosting"
   ]
  },
  {
   "cell_type": "code",
   "execution_count": 37,
   "id": "606e80cc",
   "metadata": {},
   "outputs": [],
   "source": [
    "model = GradientBoostingClassifier(random_state = 42)\n",
    "\n",
    "# Create Grid \n",
    "grid = {'n_estimators': [80, 90, 100],\n",
    "                   'max_depth': [3, 4, 5],\n",
    "                   'max_features': [None, 'auto', 'sqrt', 'log2'], \n",
    "                   'min_samples_split': [2, 3, 4]}\n",
    "\n",
    "\n",
    "grid_search = GridSearchCV(estimator = model,\n",
    "                           param_grid = grid, \n",
    "                           n_jobs = -1, \n",
    "                           cv = 5,  \n",
    "                           scoring='accuracy',error_score=0)\n",
    "grid_result = grid_search.fit(X_train, y_train)"
   ]
  },
  {
   "cell_type": "code",
   "execution_count": 38,
   "id": "d31918cf",
   "metadata": {},
   "outputs": [
    {
     "name": "stdout",
     "output_type": "stream",
     "text": [
      "Best: 0.800711 using {'max_depth': 3, 'max_features': None, 'min_samples_split': 3, 'n_estimators': 80}\n",
      "\n",
      "\n",
      "\n",
      "0.799644 (0.015112) with: {'max_depth': 3, 'max_features': None, 'min_samples_split': 2, 'n_estimators': 80}\n",
      "0.798933 (0.015482) with: {'max_depth': 3, 'max_features': None, 'min_samples_split': 2, 'n_estimators': 90}\n",
      "0.798933 (0.013798) with: {'max_depth': 3, 'max_features': None, 'min_samples_split': 2, 'n_estimators': 100}\n",
      "0.800711 (0.014718) with: {'max_depth': 3, 'max_features': None, 'min_samples_split': 3, 'n_estimators': 80}\n",
      "0.798933 (0.015492) with: {'max_depth': 3, 'max_features': None, 'min_samples_split': 3, 'n_estimators': 90}\n",
      "0.799111 (0.013725) with: {'max_depth': 3, 'max_features': None, 'min_samples_split': 3, 'n_estimators': 100}\n",
      "0.800533 (0.015018) with: {'max_depth': 3, 'max_features': None, 'min_samples_split': 4, 'n_estimators': 80}\n",
      "0.799111 (0.015064) with: {'max_depth': 3, 'max_features': None, 'min_samples_split': 4, 'n_estimators': 90}\n",
      "0.798400 (0.014589) with: {'max_depth': 3, 'max_features': None, 'min_samples_split': 4, 'n_estimators': 100}\n",
      "0.799644 (0.015112) with: {'max_depth': 3, 'max_features': 'auto', 'min_samples_split': 2, 'n_estimators': 80}\n",
      "0.798933 (0.015482) with: {'max_depth': 3, 'max_features': 'auto', 'min_samples_split': 2, 'n_estimators': 90}\n",
      "0.798933 (0.013798) with: {'max_depth': 3, 'max_features': 'auto', 'min_samples_split': 2, 'n_estimators': 100}\n",
      "0.800711 (0.014718) with: {'max_depth': 3, 'max_features': 'auto', 'min_samples_split': 3, 'n_estimators': 80}\n",
      "0.798933 (0.015492) with: {'max_depth': 3, 'max_features': 'auto', 'min_samples_split': 3, 'n_estimators': 90}\n",
      "0.799111 (0.013725) with: {'max_depth': 3, 'max_features': 'auto', 'min_samples_split': 3, 'n_estimators': 100}\n",
      "0.800533 (0.015018) with: {'max_depth': 3, 'max_features': 'auto', 'min_samples_split': 4, 'n_estimators': 80}\n",
      "0.799111 (0.015064) with: {'max_depth': 3, 'max_features': 'auto', 'min_samples_split': 4, 'n_estimators': 90}\n",
      "0.798400 (0.014589) with: {'max_depth': 3, 'max_features': 'auto', 'min_samples_split': 4, 'n_estimators': 100}\n",
      "0.797867 (0.014449) with: {'max_depth': 3, 'max_features': 'sqrt', 'min_samples_split': 2, 'n_estimators': 80}\n",
      "0.798756 (0.014449) with: {'max_depth': 3, 'max_features': 'sqrt', 'min_samples_split': 2, 'n_estimators': 90}\n",
      "0.798400 (0.015194) with: {'max_depth': 3, 'max_features': 'sqrt', 'min_samples_split': 2, 'n_estimators': 100}\n",
      "0.797867 (0.014449) with: {'max_depth': 3, 'max_features': 'sqrt', 'min_samples_split': 3, 'n_estimators': 80}\n",
      "0.798756 (0.014449) with: {'max_depth': 3, 'max_features': 'sqrt', 'min_samples_split': 3, 'n_estimators': 90}\n",
      "0.798400 (0.015194) with: {'max_depth': 3, 'max_features': 'sqrt', 'min_samples_split': 3, 'n_estimators': 100}\n",
      "0.798222 (0.014757) with: {'max_depth': 3, 'max_features': 'sqrt', 'min_samples_split': 4, 'n_estimators': 80}\n",
      "0.798756 (0.014838) with: {'max_depth': 3, 'max_features': 'sqrt', 'min_samples_split': 4, 'n_estimators': 90}\n",
      "0.797867 (0.015737) with: {'max_depth': 3, 'max_features': 'sqrt', 'min_samples_split': 4, 'n_estimators': 100}\n",
      "0.797867 (0.014449) with: {'max_depth': 3, 'max_features': 'log2', 'min_samples_split': 2, 'n_estimators': 80}\n",
      "0.798756 (0.014449) with: {'max_depth': 3, 'max_features': 'log2', 'min_samples_split': 2, 'n_estimators': 90}\n",
      "0.798400 (0.015194) with: {'max_depth': 3, 'max_features': 'log2', 'min_samples_split': 2, 'n_estimators': 100}\n",
      "0.797867 (0.014449) with: {'max_depth': 3, 'max_features': 'log2', 'min_samples_split': 3, 'n_estimators': 80}\n",
      "0.798756 (0.014449) with: {'max_depth': 3, 'max_features': 'log2', 'min_samples_split': 3, 'n_estimators': 90}\n",
      "0.798400 (0.015194) with: {'max_depth': 3, 'max_features': 'log2', 'min_samples_split': 3, 'n_estimators': 100}\n",
      "0.798222 (0.014757) with: {'max_depth': 3, 'max_features': 'log2', 'min_samples_split': 4, 'n_estimators': 80}\n",
      "0.798756 (0.014838) with: {'max_depth': 3, 'max_features': 'log2', 'min_samples_split': 4, 'n_estimators': 90}\n",
      "0.797867 (0.015737) with: {'max_depth': 3, 'max_features': 'log2', 'min_samples_split': 4, 'n_estimators': 100}\n",
      "0.795733 (0.014523) with: {'max_depth': 4, 'max_features': None, 'min_samples_split': 2, 'n_estimators': 80}\n",
      "0.795733 (0.015121) with: {'max_depth': 4, 'max_features': None, 'min_samples_split': 2, 'n_estimators': 90}\n",
      "0.796089 (0.014859) with: {'max_depth': 4, 'max_features': None, 'min_samples_split': 2, 'n_estimators': 100}\n",
      "0.793600 (0.013718) with: {'max_depth': 4, 'max_features': None, 'min_samples_split': 3, 'n_estimators': 80}\n",
      "0.792889 (0.014366) with: {'max_depth': 4, 'max_features': None, 'min_samples_split': 3, 'n_estimators': 90}\n",
      "0.792533 (0.013546) with: {'max_depth': 4, 'max_features': None, 'min_samples_split': 3, 'n_estimators': 100}\n",
      "0.794844 (0.011291) with: {'max_depth': 4, 'max_features': None, 'min_samples_split': 4, 'n_estimators': 80}\n",
      "0.793422 (0.012414) with: {'max_depth': 4, 'max_features': None, 'min_samples_split': 4, 'n_estimators': 90}\n",
      "0.792533 (0.010793) with: {'max_depth': 4, 'max_features': None, 'min_samples_split': 4, 'n_estimators': 100}\n",
      "0.795733 (0.014523) with: {'max_depth': 4, 'max_features': 'auto', 'min_samples_split': 2, 'n_estimators': 80}\n",
      "0.795733 (0.015121) with: {'max_depth': 4, 'max_features': 'auto', 'min_samples_split': 2, 'n_estimators': 90}\n",
      "0.796089 (0.014859) with: {'max_depth': 4, 'max_features': 'auto', 'min_samples_split': 2, 'n_estimators': 100}\n",
      "0.793600 (0.013718) with: {'max_depth': 4, 'max_features': 'auto', 'min_samples_split': 3, 'n_estimators': 80}\n",
      "0.792889 (0.014366) with: {'max_depth': 4, 'max_features': 'auto', 'min_samples_split': 3, 'n_estimators': 90}\n",
      "0.792533 (0.013546) with: {'max_depth': 4, 'max_features': 'auto', 'min_samples_split': 3, 'n_estimators': 100}\n",
      "0.794844 (0.011291) with: {'max_depth': 4, 'max_features': 'auto', 'min_samples_split': 4, 'n_estimators': 80}\n",
      "0.793422 (0.012414) with: {'max_depth': 4, 'max_features': 'auto', 'min_samples_split': 4, 'n_estimators': 90}\n",
      "0.792533 (0.010793) with: {'max_depth': 4, 'max_features': 'auto', 'min_samples_split': 4, 'n_estimators': 100}\n",
      "0.796444 (0.010959) with: {'max_depth': 4, 'max_features': 'sqrt', 'min_samples_split': 2, 'n_estimators': 80}\n",
      "0.796622 (0.012488) with: {'max_depth': 4, 'max_features': 'sqrt', 'min_samples_split': 2, 'n_estimators': 90}\n",
      "0.795378 (0.011865) with: {'max_depth': 4, 'max_features': 'sqrt', 'min_samples_split': 2, 'n_estimators': 100}\n",
      "0.797333 (0.013268) with: {'max_depth': 4, 'max_features': 'sqrt', 'min_samples_split': 3, 'n_estimators': 80}\n",
      "0.796444 (0.013339) with: {'max_depth': 4, 'max_features': 'sqrt', 'min_samples_split': 3, 'n_estimators': 90}\n",
      "0.796978 (0.012876) with: {'max_depth': 4, 'max_features': 'sqrt', 'min_samples_split': 3, 'n_estimators': 100}\n",
      "0.796089 (0.012273) with: {'max_depth': 4, 'max_features': 'sqrt', 'min_samples_split': 4, 'n_estimators': 80}\n",
      "0.795200 (0.011867) with: {'max_depth': 4, 'max_features': 'sqrt', 'min_samples_split': 4, 'n_estimators': 90}\n",
      "0.794844 (0.012128) with: {'max_depth': 4, 'max_features': 'sqrt', 'min_samples_split': 4, 'n_estimators': 100}\n",
      "0.796444 (0.010959) with: {'max_depth': 4, 'max_features': 'log2', 'min_samples_split': 2, 'n_estimators': 80}\n",
      "0.796622 (0.012488) with: {'max_depth': 4, 'max_features': 'log2', 'min_samples_split': 2, 'n_estimators': 90}\n",
      "0.795378 (0.011865) with: {'max_depth': 4, 'max_features': 'log2', 'min_samples_split': 2, 'n_estimators': 100}\n",
      "0.797333 (0.013268) with: {'max_depth': 4, 'max_features': 'log2', 'min_samples_split': 3, 'n_estimators': 80}\n",
      "0.796444 (0.013339) with: {'max_depth': 4, 'max_features': 'log2', 'min_samples_split': 3, 'n_estimators': 90}\n",
      "0.796978 (0.012876) with: {'max_depth': 4, 'max_features': 'log2', 'min_samples_split': 3, 'n_estimators': 100}\n",
      "0.796089 (0.012273) with: {'max_depth': 4, 'max_features': 'log2', 'min_samples_split': 4, 'n_estimators': 80}\n",
      "0.795200 (0.011867) with: {'max_depth': 4, 'max_features': 'log2', 'min_samples_split': 4, 'n_estimators': 90}\n",
      "0.794844 (0.012128) with: {'max_depth': 4, 'max_features': 'log2', 'min_samples_split': 4, 'n_estimators': 100}\n",
      "0.795378 (0.009514) with: {'max_depth': 5, 'max_features': None, 'min_samples_split': 2, 'n_estimators': 80}\n",
      "0.796089 (0.009005) with: {'max_depth': 5, 'max_features': None, 'min_samples_split': 2, 'n_estimators': 90}\n",
      "0.792533 (0.007213) with: {'max_depth': 5, 'max_features': None, 'min_samples_split': 2, 'n_estimators': 100}\n",
      "0.793956 (0.008096) with: {'max_depth': 5, 'max_features': None, 'min_samples_split': 3, 'n_estimators': 80}\n",
      "0.792711 (0.009447) with: {'max_depth': 5, 'max_features': None, 'min_samples_split': 3, 'n_estimators': 90}\n",
      "0.793422 (0.008350) with: {'max_depth': 5, 'max_features': None, 'min_samples_split': 3, 'n_estimators': 100}\n",
      "0.794667 (0.011535) with: {'max_depth': 5, 'max_features': None, 'min_samples_split': 4, 'n_estimators': 80}\n",
      "0.794667 (0.011258) with: {'max_depth': 5, 'max_features': None, 'min_samples_split': 4, 'n_estimators': 90}\n",
      "0.796089 (0.011054) with: {'max_depth': 5, 'max_features': None, 'min_samples_split': 4, 'n_estimators': 100}\n",
      "0.795378 (0.009514) with: {'max_depth': 5, 'max_features': 'auto', 'min_samples_split': 2, 'n_estimators': 80}\n",
      "0.796089 (0.009005) with: {'max_depth': 5, 'max_features': 'auto', 'min_samples_split': 2, 'n_estimators': 90}\n",
      "0.792533 (0.007213) with: {'max_depth': 5, 'max_features': 'auto', 'min_samples_split': 2, 'n_estimators': 100}\n",
      "0.793956 (0.008096) with: {'max_depth': 5, 'max_features': 'auto', 'min_samples_split': 3, 'n_estimators': 80}\n",
      "0.792711 (0.009447) with: {'max_depth': 5, 'max_features': 'auto', 'min_samples_split': 3, 'n_estimators': 90}\n",
      "0.793422 (0.008350) with: {'max_depth': 5, 'max_features': 'auto', 'min_samples_split': 3, 'n_estimators': 100}\n",
      "0.794667 (0.011535) with: {'max_depth': 5, 'max_features': 'auto', 'min_samples_split': 4, 'n_estimators': 80}\n",
      "0.794667 (0.011258) with: {'max_depth': 5, 'max_features': 'auto', 'min_samples_split': 4, 'n_estimators': 90}\n",
      "0.796089 (0.011054) with: {'max_depth': 5, 'max_features': 'auto', 'min_samples_split': 4, 'n_estimators': 100}\n",
      "0.794667 (0.011356) with: {'max_depth': 5, 'max_features': 'sqrt', 'min_samples_split': 2, 'n_estimators': 80}\n",
      "0.793244 (0.011800) with: {'max_depth': 5, 'max_features': 'sqrt', 'min_samples_split': 2, 'n_estimators': 90}\n",
      "0.793067 (0.011291) with: {'max_depth': 5, 'max_features': 'sqrt', 'min_samples_split': 2, 'n_estimators': 100}\n",
      "0.794489 (0.015194) with: {'max_depth': 5, 'max_features': 'sqrt', 'min_samples_split': 3, 'n_estimators': 80}\n",
      "0.792533 (0.013405) with: {'max_depth': 5, 'max_features': 'sqrt', 'min_samples_split': 3, 'n_estimators': 90}\n",
      "0.791467 (0.011960) with: {'max_depth': 5, 'max_features': 'sqrt', 'min_samples_split': 3, 'n_estimators': 100}\n",
      "0.795200 (0.012196) with: {'max_depth': 5, 'max_features': 'sqrt', 'min_samples_split': 4, 'n_estimators': 80}\n",
      "0.792711 (0.013225) with: {'max_depth': 5, 'max_features': 'sqrt', 'min_samples_split': 4, 'n_estimators': 90}\n",
      "0.792356 (0.012802) with: {'max_depth': 5, 'max_features': 'sqrt', 'min_samples_split': 4, 'n_estimators': 100}\n",
      "0.794667 (0.011356) with: {'max_depth': 5, 'max_features': 'log2', 'min_samples_split': 2, 'n_estimators': 80}\n",
      "0.793244 (0.011800) with: {'max_depth': 5, 'max_features': 'log2', 'min_samples_split': 2, 'n_estimators': 90}\n",
      "0.793067 (0.011291) with: {'max_depth': 5, 'max_features': 'log2', 'min_samples_split': 2, 'n_estimators': 100}\n",
      "0.794489 (0.015194) with: {'max_depth': 5, 'max_features': 'log2', 'min_samples_split': 3, 'n_estimators': 80}\n",
      "0.792533 (0.013405) with: {'max_depth': 5, 'max_features': 'log2', 'min_samples_split': 3, 'n_estimators': 90}\n",
      "0.791467 (0.011960) with: {'max_depth': 5, 'max_features': 'log2', 'min_samples_split': 3, 'n_estimators': 100}\n",
      "0.795200 (0.012196) with: {'max_depth': 5, 'max_features': 'log2', 'min_samples_split': 4, 'n_estimators': 80}\n",
      "0.792711 (0.013225) with: {'max_depth': 5, 'max_features': 'log2', 'min_samples_split': 4, 'n_estimators': 90}\n",
      "0.792356 (0.012802) with: {'max_depth': 5, 'max_features': 'log2', 'min_samples_split': 4, 'n_estimators': 100}\n"
     ]
    }
   ],
   "source": [
    "# See results\n",
    "print(\"Best: %f using %s\" % (grid_result.best_score_, grid_result.best_params_))\n",
    "means = grid_result.cv_results_['mean_test_score']\n",
    "stds = grid_result.cv_results_['std_test_score']\n",
    "params = grid_result.cv_results_['params']\n",
    "\n",
    "print('\\n\\n')\n",
    "for mean, stdev, param in zip(means, stds, params):\n",
    "    print(\"%f (%f) with: %r\" % (mean, stdev, param))"
   ]
  },
  {
   "cell_type": "code",
   "execution_count": 39,
   "id": "293aa9fc",
   "metadata": {},
   "outputs": [],
   "source": [
    "# the gradient boost classifer after grid search \n",
    "gradient = grid_search"
   ]
  },
  {
   "cell_type": "markdown",
   "id": "26b38419",
   "metadata": {},
   "source": [
    "# Final results"
   ]
  },
  {
   "cell_type": "markdown",
   "id": "652f66f6",
   "metadata": {},
   "source": [
    "Both models yield similar accuracy, but we shall employ logistic regression since it's easier to interpret.\n",
    "\n",
    "(This only matters if the project's context requires us to understand the relationship between the independent variables and the target.) \n",
    "\n",
    "Let's use logistic regression."
   ]
  },
  {
   "cell_type": "markdown",
   "id": "d18fa8e2",
   "metadata": {},
   "source": [
    "Our ML model (79.4% accuracy) beats the always-no-model (73.4%) by 6%!"
   ]
  },
  {
   "cell_type": "code",
   "execution_count": 40,
   "id": "b73eb0fe",
   "metadata": {},
   "outputs": [
    {
     "data": {
      "text/plain": [
       "0.7945984363894811"
      ]
     },
     "execution_count": 40,
     "metadata": {},
     "output_type": "execute_result"
    }
   ],
   "source": [
    "y_predict = log_reg.predict(X_test)\n",
    "\n",
    "accuracy_score( y_test, y_predict)"
   ]
  },
  {
   "cell_type": "code",
   "execution_count": 41,
   "id": "1f51c03f",
   "metadata": {},
   "outputs": [
    {
     "data": {
      "text/plain": [
       "No     0.734186\n",
       "Yes    0.265814\n",
       "Name: Churn, dtype: float64"
      ]
     },
     "execution_count": 41,
     "metadata": {},
     "output_type": "execute_result"
    }
   ],
   "source": [
    "# The dummy classifier would have gotten a 73.4% accuracy \n",
    "# Our ML model beats it by 6%\n",
    "pd.Series(y_test).value_counts(normalize = True)"
   ]
  },
  {
   "cell_type": "code",
   "execution_count": 42,
   "id": "bc26e7b5",
   "metadata": {},
   "outputs": [
    {
     "data": {
      "text/plain": [
       "array([[913, 120],\n",
       "       [169, 205]], dtype=int64)"
      ]
     },
     "execution_count": 42,
     "metadata": {},
     "output_type": "execute_result"
    }
   ],
   "source": [
    "confusion_matrix(y_test, y_predict)"
   ]
  },
  {
   "cell_type": "code",
   "execution_count": 43,
   "id": "caf86a21",
   "metadata": {},
   "outputs": [
    {
     "name": "stdout",
     "output_type": "stream",
     "text": [
      "              precision    recall  f1-score   support\n",
      "\n",
      "          No       0.84      0.88      0.86      1033\n",
      "         Yes       0.63      0.55      0.59       374\n",
      "\n",
      "    accuracy                           0.79      1407\n",
      "   macro avg       0.74      0.72      0.72      1407\n",
      "weighted avg       0.79      0.79      0.79      1407\n",
      "\n"
     ]
    }
   ],
   "source": [
    "print(classification_report(y_test, y_predict))"
   ]
  }
 ],
 "metadata": {
  "kernelspec": {
   "display_name": "Python 3 (ipykernel)",
   "language": "python",
   "name": "python3"
  },
  "language_info": {
   "codemirror_mode": {
    "name": "ipython",
    "version": 3
   },
   "file_extension": ".py",
   "mimetype": "text/x-python",
   "name": "python",
   "nbconvert_exporter": "python",
   "pygments_lexer": "ipython3",
   "version": "3.9.7"
  },
  "toc": {
   "base_numbering": 1,
   "nav_menu": {},
   "number_sections": true,
   "sideBar": true,
   "skip_h1_title": false,
   "title_cell": "Table of Contents",
   "title_sidebar": "Contents",
   "toc_cell": false,
   "toc_position": {},
   "toc_section_display": true,
   "toc_window_display": false
  }
 },
 "nbformat": 4,
 "nbformat_minor": 5
}
